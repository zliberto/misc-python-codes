{
 "cells": [
  {
   "cell_type": "markdown",
   "metadata": {},
   "source": [
    "## Exam 1\n",
    "Zuzanna Liberto <br>\n",
    "10.29.2020 <br>\n"
   ]
  },
  {
   "cell_type": "markdown",
   "metadata": {},
   "source": [
    "### Q1"
   ]
  },
  {
   "cell_type": "code",
   "execution_count": 1,
   "metadata": {},
   "outputs": [
    {
     "name": "stdin",
     "output_type": "stream",
     "text": [
      "Please enter your cooking option: microwave\n"
     ]
    },
    {
     "name": "stdout",
     "output_type": "stream",
     "text": [
      "You should cook it for 3 mins.\n"
     ]
    }
   ],
   "source": [
    "inp = input(\"Please enter your cooking option:\")\n",
    "\n",
    "if (inp == \"microwave\"):\n",
    "    print(\"You should cook it for 3 mins.\")\n",
    "elif(inp == \"oven\"):\n",
    "    print(\"You should cook it for 15 mins.\")\n",
    "elif(inp == \"fry pan\"):\n",
    "    print(\"You should cook it for 10 mins.\")\n",
    "else:\n",
    "    print(\"Invalid input. Please try microwave, over or fry pan\")\n",
    "\n"
   ]
  },
  {
   "cell_type": "markdown",
   "metadata": {},
   "source": [
    "### Q2"
   ]
  },
  {
   "cell_type": "markdown",
   "metadata": {},
   "source": [
    "**The problem with this code is that it never stops. It's an infinite loop. We need to adjust the iterative variable so that at some point the loop stops. This can be done by adding 1 to i each time the loop runs.\n",
    "Also, Output 2 will never be printed out as the code reaches the loop condition at 0 and the value of i doesn't go over 0. This could be solved by setting a different stopping condition. Another problem is that the offset variable is not defined so can't be printed. An offset variable can be added to this code to represent the number of iterations run.**"
   ]
  },
  {
   "cell_type": "code",
   "execution_count": 2,
   "metadata": {},
   "outputs": [
    {
     "name": "stdout",
     "output_type": "stream",
     "text": [
      "Output 1\n",
      "Output 3\n",
      "Output 1\n",
      "Output 3\n",
      "Output 1\n",
      "Output 3\n",
      "Output 1\n",
      "Output 3\n",
      "Output 1\n",
      "Output 3\n",
      "Output 1\n",
      "Output 3\n",
      "6\n"
     ]
    }
   ],
   "source": [
    "i = -6\n",
    "offset = 0\n",
    "# Code the while loop\n",
    "while i != 0 :\n",
    "    print(\"Output 1\")\n",
    "    if i>0 :\n",
    "          print(\"Output 2\")\n",
    "    else : \n",
    "          print(\"Output 3\")  \n",
    "    # Add 1 to i in each iteration\n",
    "    i = i+1\n",
    "    offset = offset + 1\n",
    "    \n",
    "print(offset)\n"
   ]
  },
  {
   "cell_type": "markdown",
   "metadata": {},
   "source": [
    "### Q3"
   ]
  },
  {
   "cell_type": "code",
   "execution_count": 3,
   "metadata": {},
   "outputs": [
    {
     "name": "stdin",
     "output_type": "stream",
     "text": [
      "Please enter four numbers: 10 20 30 40\n"
     ]
    },
    {
     "name": "stdout",
     "output_type": "stream",
     "text": [
      "The sum is: 100\n",
      "The average is: 25.0\n"
     ]
    }
   ],
   "source": [
    "# Take the input\n",
    "inp = input(\"Please enter four numbers:\")\n",
    "# Split by space\n",
    "splt = inp.split(\" \")\n",
    "\n",
    "# initialize variables\n",
    "summ = 0\n",
    "count = 0\n",
    "\n",
    "# loop for count and sum\n",
    "for i in splt:\n",
    "    summ = summ + int(i)\n",
    "    count = count + 1\n",
    "\n",
    "# calculate the average\n",
    "avg = summ/count\n",
    "\n",
    "# print results\n",
    "print(\"The sum is:\", summ)\n",
    "print(\"The average is:\", avg)"
   ]
  },
  {
   "cell_type": "markdown",
   "metadata": {},
   "source": [
    "### Q4"
   ]
  },
  {
   "cell_type": "code",
   "execution_count": 4,
   "metadata": {},
   "outputs": [
    {
     "name": "stdin",
     "output_type": "stream",
     "text": [
      "Please type in student's name and GPA seperated by a space (X to exit):\n",
      " Alice 4\n",
      "Please type in student's name and GPA seperated by a space (X to exit):\n",
      " Ben 3.8\n",
      "Please type in student's name and GPA seperated by a space (X to exit):\n",
      " Catherine 3.6\n",
      "Please type in student's name and GPA seperated by a space (X to exit):\n",
      " Doug 3.4\n",
      "Please type in student's name and GPA seperated by a space (X to exit):\n",
      " X\n"
     ]
    },
    {
     "name": "stdout",
     "output_type": "stream",
     "text": [
      "The average GPA is 3.7\n"
     ]
    }
   ],
   "source": [
    "#### Student GPA dictionary\n",
    "student_gpa = {}\n",
    "\n",
    "# Take the intitial input separated by a space, for example: Alice 4\n",
    "inp = input(\"Please type in student's name and GPA seperated by a space (X to exit):\\n\")\n",
    "\n",
    "#loop for adding to the dictionary\n",
    "while (inp != \"X\"):\n",
    "    splt = inp.split(\" \")\n",
    "    student_gpa[splt[0]] = float(splt[1])\n",
    "    inp = input(\"Please type in student's name and GPA seperated by a space (X to exit):\\n\")\n",
    "\n",
    "# define count and sum variables\n",
    "count = 0\n",
    "summ = 0\n",
    "\n",
    "#this loop counts the inputs in the dictionary and sums them up\n",
    "for i in student_gpa.values():\n",
    "    count = count + 1\n",
    "    summ = summ + i\n",
    "\n",
    "# calculate the average\n",
    "avg = summ/count\n",
    "\n",
    "print(\"The average GPA is\",avg) "
   ]
  },
  {
   "cell_type": "markdown",
   "metadata": {},
   "source": [
    "### Q5"
   ]
  },
  {
   "cell_type": "code",
   "execution_count": 5,
   "metadata": {},
   "outputs": [
    {
     "name": "stdin",
     "output_type": "stream",
     "text": [
      "Please enter a sentence: I like batman because batman saved the city many times.\n"
     ]
    },
    {
     "name": "stdout",
     "output_type": "stream",
     "text": [
      "\n",
      "The most frequent word is: batman\n",
      "The frequency is: 2\n"
     ]
    }
   ],
   "source": [
    "# take the input\n",
    "inp = input(\"Please enter a sentence:\")\n",
    "\n",
    "# split on a space\n",
    "splt = inp.split(\" \")\n",
    "\n",
    "# initialize the dictionary\n",
    "occurences = {}\n",
    "\n",
    "# loop over the split values\n",
    "for i in range(0, len(splt)):\n",
    "    # to lower letter\n",
    "    word = splt[i].lower()\n",
    "    # count only alphabetical words (no numbers or characters)\n",
    "    if word.isalpha():\n",
    "        if word not in occurences:\n",
    "            occurences[word] = 1\n",
    "        else:\n",
    "            occurences[word] = occurences[word] + 1\n",
    "\n",
    "# sort the values\n",
    "sorted_occurences = sorted(occurences.items(), key = lambda item: item[1], reverse = True)\n",
    "\n",
    "# print results\n",
    "print(\"\\nThe most frequent word is:\", sorted_occurences[0][0])\n",
    "print(\"The frequency is:\", sorted_occurences[0][1])\n"
   ]
  },
  {
   "cell_type": "markdown",
   "metadata": {},
   "source": [
    "### Q6"
   ]
  },
  {
   "cell_type": "code",
   "execution_count": 6,
   "metadata": {},
   "outputs": [
    {
     "name": "stdout",
     "output_type": "stream",
     "text": [
      "Pandas data frame:\n",
      "\n",
      "       Name Product  Amount\n",
      "0      Bob   Apple       1\n",
      "1      Bob  Banana       2\n",
      "2  Jessica  Orange       3\n",
      "3  Jessica  Banana       4\n",
      "4  Jessica  Tomato       3\n",
      "5     Mary  Banana       2\n",
      "6     John   Apple       3\n",
      "7     John   Grape       1\n",
      "\n",
      "\n",
      "Number of units sold in total:\n",
      "\n",
      " Product\n",
      "Apple     4\n",
      "Banana    8\n",
      "Grape     1\n",
      "Orange    3\n",
      "Tomato    3\n",
      "Name: Amount, dtype: int64\n",
      "\n",
      "\n",
      "Products which sales are larger than 3:\n",
      "\n",
      " Product\n",
      "Apple     4\n",
      "Banana    8\n",
      "Name: Amount, dtype: int64\n"
     ]
    }
   ],
   "source": [
    "import pandas as pd\n",
    "\n",
    "data = {'Name':  ['Bob', 'Bob','Jessica', 'Jessica', 'Jessica', 'Mary', 'John', 'John'],\n",
    "        'Product': ['Apple', 'Banana','Orange', 'Banana', 'Tomato', 'Banana', 'Apple', 'Grape'],\n",
    "        'Amount':[1,2,3,4,3,2,3,1]\n",
    "        }\n",
    "\n",
    "df = pd.DataFrame(data, columns = ['Name','Product','Amount'])\n",
    "\n",
    "print(\"Pandas data frame:\\n\\n\", df)\n",
    "\n",
    "prods_grouped = df.groupby(\"Product\")\n",
    "prods_count = prods_grouped[\"Amount\"].sum()\n",
    "\n",
    "print(\"\\n\\nNumber of units sold in total:\\n\\n\",prods_count)\n",
    "\n",
    "sales_morethan3 =prods_count[prods_count > 3]\n",
    "\n",
    "print(\"\\n\\nProducts which sales are larger than 3:\\n\\n\", sales_morethan3)\n",
    "\n",
    "\n"
   ]
  }
 ],
 "metadata": {
  "kernelspec": {
   "display_name": "Python 3",
   "language": "python",
   "name": "python3"
  },
  "language_info": {
   "codemirror_mode": {
    "name": "ipython",
    "version": 3
   },
   "file_extension": ".py",
   "mimetype": "text/x-python",
   "name": "python",
   "nbconvert_exporter": "python",
   "pygments_lexer": "ipython3",
   "version": "3.8.3"
  }
 },
 "nbformat": 4,
 "nbformat_minor": 4
}
