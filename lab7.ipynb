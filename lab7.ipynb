{
 "cells": [
  {
   "cell_type": "markdown",
   "metadata": {},
   "source": [
    "## Lab 7\n",
    "Zuzanna Liberto<br>\n",
    "10/9/20\n"
   ]
  },
  {
   "cell_type": "markdown",
   "metadata": {},
   "source": [
    "### Exercise 1"
   ]
  },
  {
   "cell_type": "code",
   "execution_count": 23,
   "metadata": {},
   "outputs": [
    {
     "name": "stdin",
     "output_type": "stream",
     "text": [
      "Please continue typing in the movements (UP, DOWN, LEFT or RIGHT) followed by # of units. Type in \"X\" to stop.\n",
      " UP 2\n",
      "Please continue typing in the movements (UP, DOWN, LEFT or RIGHT) followed by # of units. Type in \"X\" to stop.\n",
      " DOWN 1\n",
      "Please continue typing in the movements (UP, DOWN, LEFT or RIGHT) followed by # of units. Type in \"X\" to stop.\n",
      " X\n"
     ]
    },
    {
     "name": "stdout",
     "output_type": "stream",
     "text": [
      "The distance from (0,0) is 1.0\n"
     ]
    }
   ],
   "source": [
    "import math\n",
    "\n",
    "str_arr = []\n",
    "inp = input(\"Please continue typing in the movements (UP, DOWN, LEFT or RIGHT) followed by # of units. Type in \\\"X\\\" to stop.\\n\")\n",
    "pos = [0,0] #x,y\n",
    "\n",
    "\n",
    "while (inp != \"X\"):\n",
    "    #str_arr.append(inp)\n",
    "    splt = inp.split(\" \")\n",
    "    if (splt[0]) == \"UP\":\n",
    "        pos[1] = pos[1] + int(splt[1])\n",
    "    elif (splt[0]) == \"DOWN\":\n",
    "        pos[1] = pos[1] - int(splt[1])\n",
    "    elif splt[0] == \"LEFT\":\n",
    "        pos[0] = pos[0] - int(splt[1])\n",
    "    elif splt[0] == \"RIGHT\":\n",
    "        pos[0] = pos[0] + int(splt[1])\n",
    "    inp = input(\"Please continue typing in the movements (UP, DOWN, LEFT or RIGHT) followed by # of units. Type in \\\"X\\\" to stop.\\n\")\n",
    "\n",
    "dist = math.sqrt((pos[0] - 0)**2 + (pos[1] - 0)**2)\n",
    "print(\"The distance from (0,0) is\",round(dist, 0))\n",
    "        "
   ]
  },
  {
   "cell_type": "markdown",
   "metadata": {},
   "source": [
    "### Exercise 2"
   ]
  },
  {
   "cell_type": "code",
   "execution_count": 39,
   "metadata": {},
   "outputs": [
    {
     "name": "stdin",
     "output_type": "stream",
     "text": [
      "Please continue typing in the articles. Type in \"X\" to stop\n",
      " Beginner means someone who has just gone through an introductory Python course. \n",
      "Please continue typing in the articles. Type in \"X\" to stop\n",
      " He can solve some problems with 1 or 2 Python classes or functions. \n",
      "Please continue typing in the articles. Type in \"X\" to stop\n",
      " Normally, the answers could directly be found in the textbooks.\n",
      "Please continue typing in the articles. Type in \"X\" to stop\n",
      " Intermediate means someone who has just learned Python, but already has a relatively strong programming background from before.\n",
      "Please continue typing in the articles. Type in \"X\" to stop\n",
      " X\n"
     ]
    },
    {
     "name": "stdout",
     "output_type": "stream",
     "text": [
      "Occurences of words:\n",
      " : 2\n",
      "1 : 1\n",
      "2 : 1\n",
      "a : 1\n",
      "already : 1\n",
      "an : 1\n",
      "answers : 1\n",
      "background : 1\n",
      "be : 1\n",
      "before. : 1\n",
      "beginner : 1\n",
      "but : 1\n",
      "can : 1\n",
      "classes : 1\n",
      "could : 1\n",
      "course. : 1\n",
      "directly : 1\n",
      "found : 1\n",
      "from : 1\n",
      "functions. : 1\n",
      "gone : 1\n",
      "has : 3\n",
      "he : 1\n",
      "in : 1\n",
      "intermediate : 1\n",
      "introductory : 1\n",
      "just : 2\n",
      "learned : 1\n",
      "means : 2\n",
      "normally, : 1\n",
      "or : 2\n",
      "problems : 1\n",
      "programming : 1\n",
      "python : 2\n",
      "python, : 1\n",
      "relatively : 1\n",
      "solve : 1\n",
      "some : 1\n",
      "someone : 2\n",
      "strong : 1\n",
      "textbooks. : 1\n",
      "the : 2\n",
      "through : 1\n",
      "who : 2\n",
      "with : 1\n"
     ]
    }
   ],
   "source": [
    "inp = input(\"Please continue typing in the articles. Type in \\\"X\\\" to stop\\n\")\n",
    "\n",
    "art_arr = []\n",
    "full_arr = []\n",
    "occurences = {}\n",
    "\n",
    "\n",
    "while (inp != \"X\"):\n",
    "    art_arr.append(inp)\n",
    "    inp = input(\"Please continue typing in the articles. Type in \\\"X\\\" to stop\\n\")\n",
    "\n",
    "            \n",
    "for i in range(0, len(art_arr)):\n",
    "    article = art_arr[i]\n",
    "    full_arr = full_arr + article.split(\" \")\n",
    "    \n",
    "    \n",
    "for j in range(0, len(full_arr)):\n",
    "    word = full_arr[j].lower()\n",
    "    if word not in occurences:\n",
    "        occurences[word] = 1\n",
    "    else:\n",
    "        occurences[word] = occurences[word] + 1\n",
    "\n",
    "\n",
    "print(\"Occurences of words:\")\n",
    "for n in sorted(occurences):\n",
    "    print(n,\":\",occurences[n])\n",
    "            \n",
    "       "
   ]
  },
  {
   "cell_type": "code",
   "execution_count": null,
   "metadata": {},
   "outputs": [],
   "source": []
  }
 ],
 "metadata": {
  "kernelspec": {
   "display_name": "Python 3",
   "language": "python",
   "name": "python3"
  },
  "language_info": {
   "codemirror_mode": {
    "name": "ipython",
    "version": 3
   },
   "file_extension": ".py",
   "mimetype": "text/x-python",
   "name": "python",
   "nbconvert_exporter": "python",
   "pygments_lexer": "ipython3",
   "version": "3.8.3"
  }
 },
 "nbformat": 4,
 "nbformat_minor": 4
}
