{
 "cells": [
  {
   "cell_type": "markdown",
   "metadata": {},
   "source": [
    "## Assignment 4\n",
    "Zuzanna Liberto <br>\n",
    "10.10.2020 <br>"
   ]
  },
  {
   "cell_type": "markdown",
   "metadata": {},
   "source": [
    "### Exercise 1\n"
   ]
  },
  {
   "cell_type": "code",
   "execution_count": 11,
   "metadata": {},
   "outputs": [
    {
     "name": "stdin",
     "output_type": "stream",
     "text": [
      "\n",
      "Please input the first number: 4\n",
      "Please input the second number: 3\n"
     ]
    },
    {
     "name": "stdout",
     "output_type": "stream",
     "text": [
      "\n",
      "Sum of 4 and 3 is: 7\n"
     ]
    },
    {
     "name": "stdin",
     "output_type": "stream",
     "text": [
      "\n",
      "Please input a string: test1\n"
     ]
    },
    {
     "name": "stdout",
     "output_type": "stream",
     "text": [
      "\n",
      "Length of the string \" test1 \" is 5\n"
     ]
    }
   ],
   "source": [
    "import arithmetic\n",
    "\n",
    "# get two numbers from the user\n",
    "x_inp = int(input(\"\\nPlease input the first number:\"))\n",
    "y_inp = int(input(\"Please input the second number:\"))\n",
    "\n",
    "# this function call will return a sum of two numbers\n",
    "xy_sum = arithmetic.add(x_inp, y_inp)\n",
    "\n",
    "print(\"\\nSum of\", x_inp, \"and\", y_inp, \"is:\", xy_sum)\n",
    "\n",
    "\n",
    "# get a string from the user\n",
    "str_inp = input(\"\\nPlease input a string:\")\n",
    "\n",
    "# this function call will return a length of the given string\n",
    "str_len = arithmetic.get_length(str_inp)\n",
    "\n",
    "print(\"\\nLength of the string \\\"\", str_inp, \"\\\"\", \"is\", str_len)\n"
   ]
  },
  {
   "cell_type": "markdown",
   "metadata": {},
   "source": [
    "### Exercise 2"
   ]
  },
  {
   "cell_type": "code",
   "execution_count": 12,
   "metadata": {},
   "outputs": [
    {
     "name": "stdout",
     "output_type": "stream",
     "text": [
      "squirrel : 100\n",
      "cat : 10\n",
      "dog : 10\n"
     ]
    }
   ],
   "source": [
    "import os, re\n",
    "\n",
    "full_arr = []\n",
    "occurences = {}\n",
    "\n",
    "# for each file in the specified directory, open the file, split lines of text into tokens and copy them to full_arr\n",
    "for file in os.listdir(\"example_folder\"):\n",
    "    #exclude the hidden checkpoints folder\n",
    "    if file != \".ipynb_checkpoints\":\n",
    "        filepath = \"example_folder/\" + file\n",
    "        fh = open(filepath, \"r\")\n",
    "        lines = fh.read()\n",
    "        # use regex to separate strings based on a space, new line, period and comma\n",
    "        full_arr = full_arr + re.split(\"[.,\\n ]\", lines)\n",
    "\n",
    "# for each element in full_arr, count its occurences and add/increment the value in a dictionary\n",
    "for i in range(0, len(full_arr)):\n",
    "    word = full_arr[i].lower()\n",
    "    #count only alphabetical words (no numbers or characters)\n",
    "    if word.isalpha():\n",
    "        if word not in occurences:\n",
    "            occurences[word] = 1\n",
    "        else:\n",
    "            occurences[word] = occurences[word] + 1\n",
    "            \n",
    "# print the elements of the dictionary sorted by a # of times they appear        \n",
    "for key, val in reversed(sorted(occurences.items(), key = lambda item: item[1])):\n",
    "    print(key,\":\", val)"
   ]
  },
  {
   "cell_type": "markdown",
   "metadata": {},
   "source": [
    "### Exercise 3"
   ]
  },
  {
   "cell_type": "code",
   "execution_count": 13,
   "metadata": {},
   "outputs": [
    {
     "name": "stdout",
     "output_type": "stream",
     "text": [
      "Done! Open the output.txt file to see the results.\n"
     ]
    }
   ],
   "source": [
    "import re\n",
    "\n",
    "single = {} # this dictionary is for the most popular single products\n",
    "pairs = {} # this dictionary is for the most popular pairs of items\n",
    "\n",
    "# initiate a file handler, read in the file and tokenize it into rows\n",
    "fh = open(\"retail.csv\", \"r\")\n",
    "lines = fh.read()\n",
    "sep = re.split(\"\\n\", lines)\n",
    "\n",
    "# this for loop loops over each transaction\n",
    "for i in range(0,len(sep)-1):\n",
    "    trans = sep[i]\n",
    "    \n",
    "    #split each transaction based on a comma into an array with three elements: index 0 = transactionID, index 1 = product 1, index 2 = product 2\n",
    "    trans_splt = trans.split(\",\")\n",
    "\n",
    "    prod1 = int(trans_splt[1])\n",
    "    prod2 = int(trans_splt[2])\n",
    "\n",
    "    # if no second product was purchased, either add the product to the \"single\" dictionary or increment its occurence value\n",
    "    if prod2 == 0:\n",
    "        if prod1 not in single:\n",
    "            single[prod1] = 1\n",
    "        else:\n",
    "            single[prod1] = single[prod1] + 1\n",
    "            \n",
    "    # if a second product was purchased, either add the pair to the \"pairs\" dictionary or increment its occurence value        \n",
    "    else:\n",
    "            # concatenate both products to a string in a regular and reversed fashion\n",
    "            pair = trans_splt[1] + \" \" + trans_splt[2]\n",
    "            pair_rev = trans_splt[2] + \" \" + trans_splt[1]\n",
    "            \n",
    "            # check the belonging of each pair in the \"pairs\" dictionary (for both normal and reversed string)\n",
    "            if pair not in pairs:\n",
    "                if pair_rev not in pairs:\n",
    "                    pairs[pair] = 1\n",
    "                else:\n",
    "                    pairs[pair_rev] = pairs[pair_rev] + 1\n",
    "            else:\n",
    "                pairs[pair] = pairs[pair] + 1\n",
    "\n",
    "# sort each dictionary by values, descending (returns a list)\n",
    "sorted_single = sorted(single.items(), key = lambda item: item[1], reverse = True)\n",
    "sorted_pairs = sorted(pairs.items(), key = lambda item: item[1], reverse = True)\n",
    "\n",
    "# initiate a file handler to write\n",
    "wfh = open(\"output.txt\", \"w\")    \n",
    "\n",
    "# write top 10 products for single and pairs\n",
    "wfh.write(\"Top 10 Single Products:\\nProduct:\\tFrequency:\\n\")\n",
    "\n",
    "for item in range(0, 10):\n",
    "    wfh.write(str(sorted_single[item][0])) \n",
    "    wfh.write(\"\\t\\t\")\n",
    "    wfh.write(str(sorted_single[item][1]))\n",
    "    wfh.write(\"\\n\")\n",
    "    \n",
    "    \n",
    "wfh.write(\"\\n\\nTop 10 Pairs of Products:\\nProduct pair:\\tFrequency:\\n\")\n",
    "\n",
    "for item in range(0, 10):\n",
    "    wfh.write(str(sorted_pairs[item][0]))\n",
    "    wfh.write(\"\\t\\t\")\n",
    "    wfh.write(str(sorted_pairs[item][1]))\n",
    "    wfh.write(\"\\n\")\n",
    "\n",
    "    \n",
    "# close the file handler\n",
    "wfh.close()\n",
    "  \n",
    "print(\"Done! Open the output.txt file to see the results.\")\n",
    "    "
   ]
  }
 ],
 "metadata": {
  "kernelspec": {
   "display_name": "Python 3",
   "language": "python",
   "name": "python3"
  },
  "language_info": {
   "codemirror_mode": {
    "name": "ipython",
    "version": 3
   },
   "file_extension": ".py",
   "mimetype": "text/x-python",
   "name": "python",
   "nbconvert_exporter": "python",
   "pygments_lexer": "ipython3",
   "version": "3.8.3"
  }
 },
 "nbformat": 4,
 "nbformat_minor": 4
}
