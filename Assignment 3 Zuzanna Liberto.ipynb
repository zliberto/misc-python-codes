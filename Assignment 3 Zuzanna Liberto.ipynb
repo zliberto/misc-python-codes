{
 "cells": [
  {
   "cell_type": "markdown",
   "metadata": {},
   "source": [
    "## Assignment 3\n",
    "Zuzanna Liberto <br>\n",
    "10.3.2020 <br>"
   ]
  },
  {
   "cell_type": "markdown",
   "metadata": {},
   "source": [
    "### Task 1: Dice probability distribution simulation"
   ]
  },
  {
   "cell_type": "code",
   "execution_count": 6,
   "metadata": {},
   "outputs": [],
   "source": [
    "import random\n",
    "\n",
    "def sim_dice():\n",
    "    \n",
    "    distr = {1 : 0,\n",
    "             2 : 0,\n",
    "             3 : 0,\n",
    "             4 : 0,\n",
    "             5 : 0,\n",
    "             6 : 0\n",
    "            }\n",
    "    \n",
    "    n = 10000\n",
    "    \n",
    "    while n > 0:\n",
    "        \n",
    "        rand = random.random()\n",
    "        if (rand >= 0 and rand < 1/6):\n",
    "            distr[1] = distr[1] + 1\n",
    "        elif (rand >= 1/6 and rand < 2/6):\n",
    "            distr[2] = distr[2] + 1\n",
    "        elif (rand >= 2/6 and rand < 3/6):\n",
    "            distr[3] = distr[3] + 1\n",
    "        elif (rand >= 3/6 and rand < 4/6):\n",
    "            distr[4] = distr[4] + 1\n",
    "        elif (rand >= 4/6 and rand < 5/6):\n",
    "            distr[5] = distr[5] + 1\n",
    "        elif (rand >= 5/6 and rand < 1):\n",
    "            distr[6] = distr[6] + 1\n",
    "        \n",
    "        n = n - 1\n",
    "    \n",
    "    return(distr)    "
   ]
  },
  {
   "cell_type": "markdown",
   "metadata": {},
   "source": [
    "### Task 2:  Sentence comparison "
   ]
  },
  {
   "cell_type": "code",
   "execution_count": 2,
   "metadata": {},
   "outputs": [],
   "source": [
    "def sent_compare(sentence1, sentence2):\n",
    "    arr = []\n",
    "\n",
    "    for i in range(0, len(sentence1)):\n",
    "        letter1 = sentence1.lower()[i]\n",
    "        \n",
    "        for j in range (0, len(sentence2)):\n",
    "            letter2 = sentence2.lower()[j]\n",
    "            if letter1 == letter2:\n",
    "                if letter1 not in arr:\n",
    "                    arr.append(letter1)\n",
    "                \n",
    "                \n",
    "    return (len(arr))"
   ]
  },
  {
   "cell_type": "markdown",
   "metadata": {},
   "source": [
    "### Task 3: Sentence split"
   ]
  },
  {
   "cell_type": "code",
   "execution_count": 7,
   "metadata": {},
   "outputs": [],
   "source": [
    "import re\n",
    "\n",
    "def sent_split(sentence, *delimiter):\n",
    "    delims_reg_start = \"[\"\n",
    "    delims_reg_end = \"]\"\n",
    "    delims_reg_middle = \"\"\n",
    "    \n",
    "    for delim in delimiter:\n",
    "        delims_reg_middle = delims_reg_middle + delim \n",
    "                \n",
    "    delims_reg = delims_reg_start + delims_reg_middle + delims_reg_end\n",
    "        \n",
    "    split = re.split(delims_reg, sentence)\n",
    "    \n",
    "    return(split)\n"
   ]
  },
  {
   "cell_type": "markdown",
   "metadata": {},
   "source": [
    "### Task 4: The main method"
   ]
  },
  {
   "cell_type": "code",
   "execution_count": 10,
   "metadata": {},
   "outputs": [
    {
     "name": "stdin",
     "output_type": "stream",
     "text": [
      "\n",
      "Menu:\n",
      "Enter \"dice\" to show dice probability distribution simulation\n",
      "Enter \"compare\" to output the number of common characters in two sentences\n",
      "Enter \"split\" to split a sentence based on multiple delimiters\n",
      "Enter \"exit\" to exit.\n",
      " split\n"
     ]
    },
    {
     "name": "stdout",
     "output_type": "stream",
     "text": [
      "\n",
      "\n"
     ]
    },
    {
     "name": "stdin",
     "output_type": "stream",
     "text": [
      "Please continue typing in the delimiters. Type in \"done\" to exit. ,\n",
      "Please continue typing in the delimiters. Type in \"done\" to exit. /\n",
      "Please continue typing in the delimiters. Type in \"done\" to exit. done\n"
     ]
    },
    {
     "name": "stdout",
     "output_type": "stream",
     "text": [
      "\n",
      "The delimeters you input are: [',', '/']\n"
     ]
    },
    {
     "name": "stdin",
     "output_type": "stream",
     "text": [
      "\n",
      "Please type in a sentence to split: I like computer programming, including Python, Java, and C/C++\n"
     ]
    },
    {
     "name": "stdout",
     "output_type": "stream",
     "text": [
      "\n",
      "The split sentence is:\n",
      " ['I like computer programming', ' including Python', ' Java', ' and C', 'C++']\n"
     ]
    },
    {
     "name": "stdin",
     "output_type": "stream",
     "text": [
      "\n",
      "Menu:\n",
      "Enter \"dice\" to show dice probability distribution simulation\n",
      "Enter \"compare\" to output the number of common characters in two sentences\n",
      "Enter \"split\" to split a sentence based on multiple delimiters\n",
      "Enter \"exit\" to exit.\n",
      " dice\n"
     ]
    },
    {
     "name": "stdout",
     "output_type": "stream",
     "text": [
      "\n",
      "The distribution of 10,000 dice rolls:\n",
      "1 : 1674\n",
      "2 : 1703\n",
      "3 : 1664\n",
      "4 : 1649\n",
      "5 : 1709\n",
      "6 : 1601\n"
     ]
    },
    {
     "name": "stdin",
     "output_type": "stream",
     "text": [
      "\n",
      "Menu:\n",
      "Enter \"dice\" to show dice probability distribution simulation\n",
      "Enter \"compare\" to output the number of common characters in two sentences\n",
      "Enter \"split\" to split a sentence based on multiple delimiters\n",
      "Enter \"exit\" to exit.\n",
      " compare\n",
      "Please input the first sentence: I like Python programming\n",
      "Please input the second sentence: I like java\n"
     ]
    },
    {
     "name": "stdout",
     "output_type": "stream",
     "text": [
      "\n",
      "The number of common characters is 6\n"
     ]
    },
    {
     "name": "stdin",
     "output_type": "stream",
     "text": [
      "\n",
      "Menu:\n",
      "Enter \"dice\" to show dice probability distribution simulation\n",
      "Enter \"compare\" to output the number of common characters in two sentences\n",
      "Enter \"split\" to split a sentence based on multiple delimiters\n",
      "Enter \"exit\" to exit.\n",
      " exit\n"
     ]
    }
   ],
   "source": [
    "def main():\n",
    "    choice = input(\"\\nMenu:\\nEnter \\\"dice\\\" to show dice probability distribution simulation\\nEnter \\\"compare\\\" to output the number of common characters in two sentences\\nEnter \\\"split\\\" to split a sentence based on multiple delimiters\\nEnter \\\"exit\\\" to exit.\\n\")\n",
    "    print(\"\\n\")\n",
    "    while (choice != \"exit\"):\n",
    "        if choice == \"dice\":\n",
    "            dic = sim_dice()\n",
    "            print(\"\\nThe distribution of 10,000 dice rolls:\")\n",
    "            for x,y in dic.items():\n",
    "                print(x, \":\", y)\n",
    "        if choice == \"compare\":\n",
    "            sent1 = input(\"Please input the first sentence:\")\n",
    "            sent2 = input(\"Please input the second sentence:\")\n",
    "            n = sent_compare(sent1,sent2)\n",
    "            print(\"\\nThe number of common characters is\", n)\n",
    "        if choice == \"split\":\n",
    "            delim_inp = input(\"Please continue typing in the delimiters. Type in \\\"done\\\" to exit.\")\n",
    "            delimiter = []\n",
    "            while (delim_inp != \"done\"):\n",
    "                delimiter.append(delim_inp)\n",
    "                delim_inp = input(\"Please continue typing in the delimiters. Type in \\\"done\\\" to exit.\")\n",
    "    \n",
    "            print(\"\\nThe delimeters you input are:\", delimiter)\n",
    "\n",
    "            sentence = input(\"\\nPlease type in a sentence to split:\")\n",
    "            split_list = sent_split(sentence, *delimiter)\n",
    "            print(\"\\nThe split sentence is:\\n\", split_list)\n",
    "            \n",
    "        choice = input(\"\\nMenu:\\nEnter \\\"dice\\\" to show dice probability distribution simulation\\nEnter \\\"compare\\\" to output the number of common characters in two sentences\\nEnter \\\"split\\\" to split a sentence based on multiple delimiters\\nEnter \\\"exit\\\" to exit.\\n\")\n",
    "\n",
    "if __name__ == '__main__':\n",
    "    main()"
   ]
  }
 ],
 "metadata": {
  "kernelspec": {
   "display_name": "Python 3",
   "language": "python",
   "name": "python3"
  },
  "language_info": {
   "codemirror_mode": {
    "name": "ipython",
    "version": 3
   },
   "file_extension": ".py",
   "mimetype": "text/x-python",
   "name": "python",
   "nbconvert_exporter": "python",
   "pygments_lexer": "ipython3",
   "version": "3.8.3"
  }
 },
 "nbformat": 4,
 "nbformat_minor": 4
}
