{
 "cells": [
  {
   "cell_type": "markdown",
   "metadata": {},
   "source": [
    "## Assignment 2\n",
    "Zuzanna Liberto <br>\n",
    "9.18.2020 <br>"
   ]
  },
  {
   "cell_type": "markdown",
   "metadata": {},
   "source": [
    "### Exercise 2.1"
   ]
  },
  {
   "cell_type": "code",
   "execution_count": 2,
   "metadata": {},
   "outputs": [
    {
     "name": "stdin",
     "output_type": "stream",
     "text": [
      "Please enter a positive integer: -5\n"
     ]
    },
    {
     "name": "stdout",
     "output_type": "stream",
     "text": [
      "The input you gave is not valid. It must be positive. \n"
     ]
    }
   ],
   "source": [
    "inp = int(input(\"Please enter a positive integer:\"))\n",
    "\n",
    "sum = 0\n",
    "\n",
    "if (inp > 0):\n",
    "    for i in range(1, inp + 1):\n",
    "        sum += 2*i-1\n",
    "\n",
    "    print(\"\\nThe sum is\", sum)\n",
    "else:\n",
    "    print(\"The input you gave is not valid. It must be positive. \")"
   ]
  },
  {
   "cell_type": "markdown",
   "metadata": {},
   "source": [
    "### Exercise 2.2"
   ]
  },
  {
   "cell_type": "code",
   "execution_count": 6,
   "metadata": {},
   "outputs": [
    {
     "name": "stdin",
     "output_type": "stream",
     "text": [
      "Please enter a positive integer: 5\n"
     ]
    },
    {
     "name": "stdout",
     "output_type": "stream",
     "text": [
      "\n",
      "\n",
      "1  \n",
      "\n",
      "1  2  \n",
      "\n",
      "1  2  3  \n",
      "\n",
      "1  2  3  4  \n",
      "\n",
      "1  2  3  4  5  \n",
      "\n"
     ]
    }
   ],
   "source": [
    "inp = int(input(\"Please enter a positive integer:\"))\n",
    "print(\"\\n\")\n",
    "\n",
    "if (inp > 0):\n",
    "    for i in range (1, inp + 1):\n",
    "        for j in range (1, i + 1):\n",
    "            print(j, \" \", end = \"\")\n",
    "        print(\"\\n\")\n",
    "else:\n",
    "    print(\"The input you gave is not valid. It must be positive. \")\n"
   ]
  },
  {
   "cell_type": "markdown",
   "metadata": {},
   "source": [
    "### Exercise 2.3"
   ]
  },
  {
   "cell_type": "code",
   "execution_count": 9,
   "metadata": {},
   "outputs": [
    {
     "name": "stdout",
     "output_type": "stream",
     "text": [
      "Pi is 3.1415826535897198\n"
     ]
    }
   ],
   "source": [
    "counter = 0\n",
    "sum = 0\n",
    "n_terms = 100000 # stopping criterion - number of added terms\n",
    "\n",
    "while (counter < n_terms):\n",
    "    if counter%2 == 0:\n",
    "        sum = sum + (1/(2*counter+1))\n",
    "    else:\n",
    "        sum = sum - (1/(2*counter+1))\n",
    "    counter += 1\n",
    "pi = sum * 4\n",
    "\n",
    "print(\"Pi is\", pi)"
   ]
  },
  {
   "cell_type": "markdown",
   "metadata": {},
   "source": [
    "### Exercise 2.4"
   ]
  },
  {
   "cell_type": "code",
   "execution_count": 10,
   "metadata": {},
   "outputs": [
    {
     "name": "stdin",
     "output_type": "stream",
     "text": [
      "How many marbles to start with?: 10\n"
     ]
    },
    {
     "name": "stdout",
     "output_type": "stream",
     "text": [
      "\n",
      "There is 10 marbles left.\n",
      "\n",
      "> Player 1"
     ]
    },
    {
     "name": "stdin",
     "output_type": "stream",
     "text": [
      "How many marbles do you want to take? (max 3 marbles)  2\n"
     ]
    },
    {
     "name": "stdout",
     "output_type": "stream",
     "text": [
      "\n",
      "There is 8 marbles left.\n",
      "\n",
      "> Player 2"
     ]
    },
    {
     "name": "stdin",
     "output_type": "stream",
     "text": [
      "How many marbles do you want to take? (max 3 marbles)  2\n"
     ]
    },
    {
     "name": "stdout",
     "output_type": "stream",
     "text": [
      "\n",
      "There is 6 marbles left.\n",
      "\n",
      "> Player 1"
     ]
    },
    {
     "name": "stdin",
     "output_type": "stream",
     "text": [
      "How many marbles do you want to take? (max 3 marbles)  2\n"
     ]
    },
    {
     "name": "stdout",
     "output_type": "stream",
     "text": [
      "\n",
      "There is 4 marbles left.\n",
      "\n",
      "> Player 2"
     ]
    },
    {
     "name": "stdin",
     "output_type": "stream",
     "text": [
      "How many marbles do you want to take? (max 3 marbles)  1\n"
     ]
    },
    {
     "name": "stdout",
     "output_type": "stream",
     "text": [
      "\n",
      "There is 3 marbles left.\n",
      "\n",
      "> Player 1"
     ]
    },
    {
     "name": "stdin",
     "output_type": "stream",
     "text": [
      "How many marbles do you want to take? (max 3 marbles)  3\n"
     ]
    },
    {
     "name": "stdout",
     "output_type": "stream",
     "text": [
      "\n",
      "Player 1, you took the last marble and have won!!\n"
     ]
    }
   ],
   "source": [
    "n = int(input(\"How many marbles to start with?:\"))\n",
    "counter = 0\n",
    "\n",
    "while (n > 0):\n",
    "    print(\"\\nThere is\", n, \"marbles left.\\n\")\n",
    "    \n",
    "    if counter%2 == 0:\n",
    "        player = 1\n",
    "    else:\n",
    "        player = 2\n",
    "    \n",
    "    print(\"> Player\", player, end=\"\")\n",
    "    draw = int(input(\"How many marbles do you want to take? (max 3 marbles) \"))\n",
    "    \n",
    "    n-=draw\n",
    "    counter+=1 \n",
    "    \n",
    "if counter%2 == 0:\n",
    "    print(\"\\nPlayer 2, you took the last marble and have won!!\")\n",
    "else:\n",
    "    print(\"\\nPlayer 1, you took the last marble and have won!!\")\n",
    "    \n"
   ]
  },
  {
   "cell_type": "markdown",
   "metadata": {},
   "source": [
    "### Exercise 2.5"
   ]
  },
  {
   "cell_type": "code",
   "execution_count": 11,
   "metadata": {},
   "outputs": [
    {
     "name": "stdin",
     "output_type": "stream",
     "text": [
      "Please enter the positive height: 5\n"
     ]
    },
    {
     "name": "stdout",
     "output_type": "stream",
     "text": [
      "\n",
      "\n",
      "*                *\n",
      "***            ***\n",
      "*****        *****\n",
      "*******    *******\n",
      "******************\n"
     ]
    }
   ],
   "source": [
    "n = int(input(\"Please enter a positive height:\"))\n",
    "print(\"\\n\")\n",
    "length_last = (n*2)*2-2\n",
    "\n",
    "for i in range(1, n):\n",
    "    print((i*2-1)* \"*\", ((length_last)-2*(i*2))*\" \", (i*2-1)* \"*\")\n",
    "    \n",
    "print(length_last*\"*\")"
   ]
  }
 ],
 "metadata": {
  "kernelspec": {
   "display_name": "Python 3",
   "language": "python",
   "name": "python3"
  },
  "language_info": {
   "codemirror_mode": {
    "name": "ipython",
    "version": 3
   },
   "file_extension": ".py",
   "mimetype": "text/x-python",
   "name": "python",
   "nbconvert_exporter": "python",
   "pygments_lexer": "ipython3",
   "version": "3.8.3"
  }
 },
 "nbformat": 4,
 "nbformat_minor": 4
}
