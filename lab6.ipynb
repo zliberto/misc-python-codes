{
 "cells": [
  {
   "cell_type": "markdown",
   "metadata": {},
   "source": [
    "## Lab 6\n",
    "Zuzanna Liberto<br>\n",
    "10/1/20\n"
   ]
  },
  {
   "cell_type": "markdown",
   "metadata": {},
   "source": [
    "### Task 1: display system functions"
   ]
  },
  {
   "cell_type": "code",
   "execution_count": 6,
   "metadata": {},
   "outputs": [],
   "source": [
    "def show_functions ():\n",
    "    print(\"\\n*********************************************\\n* 1. Generate overall stats for all products (total #, avg #, min, and max)\\n* 2. Calculate the amount for a given product\\n* 3. Update the amount for a given product\\n* 0. Exit\\n*********************************************\")\n",
    "    inp = int(input(\"\\nPlease select one option from the menu:\"))\n",
    "    return inp"
   ]
  },
  {
   "cell_type": "markdown",
   "metadata": {},
   "source": [
    "### Task 2: Generate overall stats for all products"
   ]
  },
  {
   "cell_type": "code",
   "execution_count": 8,
   "metadata": {},
   "outputs": [],
   "source": [
    "def gen_stats(stock):\n",
    "    total = len(stock)\n",
    "    print(\"Total # of products:\", total)\n",
    "    \n",
    "    total = 0\n",
    "    for i in stock.values():\n",
    "        total = total + i\n",
    "    print(\"Average:\", total/len(stock))\n",
    "    \n",
    "    max_val = max(stock.keys(), key=(lambda j: stock[j]))\n",
    "    min_val = min(stock.keys(), key=(lambda k: stock[k]))\n",
    "    \n",
    "    print(\"Max:\", stock[max_val])\n",
    "    print(\"Min:\", stock[min_val])\n",
    "    "
   ]
  },
  {
   "cell_type": "markdown",
   "metadata": {},
   "source": [
    "### Task 3: calculate the amount of a given product"
   ]
  },
  {
   "cell_type": "code",
   "execution_count": 9,
   "metadata": {},
   "outputs": [],
   "source": [
    "def check_stock(stock, name):\n",
    "    n = stock[name]\n",
    "    return (n)"
   ]
  },
  {
   "cell_type": "markdown",
   "metadata": {},
   "source": [
    "### Task 4: update the amount for a given product\n"
   ]
  },
  {
   "cell_type": "code",
   "execution_count": 10,
   "metadata": {},
   "outputs": [],
   "source": [
    "def update_stock(stock, name, new_stock):\n",
    "    stock[name] = new_stock"
   ]
  },
  {
   "cell_type": "markdown",
   "metadata": {},
   "source": [
    "## The program"
   ]
  },
  {
   "cell_type": "code",
   "execution_count": 13,
   "metadata": {},
   "outputs": [
    {
     "name": "stdout",
     "output_type": "stream",
     "text": [
      "\n",
      "*********************************************\n",
      "* 1. Generate overall stats for all products (total #, avg #, min, and max)\n",
      "* 2. Calculate the amount for a given product\n",
      "* 3. Update the amount for a given product\n",
      "* 0. Exit\n",
      "*********************************************\n"
     ]
    },
    {
     "name": "stdin",
     "output_type": "stream",
     "text": [
      "\n",
      "Please select one option from the menu: 1\n"
     ]
    },
    {
     "name": "stdout",
     "output_type": "stream",
     "text": [
      "Total # of products: 4\n",
      "Average: 25.25\n",
      "Max: 50\n",
      "Min: 1\n",
      "\n",
      "*********************************************\n",
      "* 1. Generate overall stats for all products (total #, avg #, min, and max)\n",
      "* 2. Calculate the amount for a given product\n",
      "* 3. Update the amount for a given product\n",
      "* 0. Exit\n",
      "*********************************************\n"
     ]
    },
    {
     "name": "stdin",
     "output_type": "stream",
     "text": [
      "\n",
      "Please select one option from the menu: 2\n",
      "Please input the product name: test1\n"
     ]
    },
    {
     "name": "stdout",
     "output_type": "stream",
     "text": [
      "\n",
      "The amount of this products in stock is: 1\n",
      "\n",
      "*********************************************\n",
      "* 1. Generate overall stats for all products (total #, avg #, min, and max)\n",
      "* 2. Calculate the amount for a given product\n",
      "* 3. Update the amount for a given product\n",
      "* 0. Exit\n",
      "*********************************************\n"
     ]
    },
    {
     "name": "stdin",
     "output_type": "stream",
     "text": [
      "\n",
      "Please select one option from the menu: 3\n",
      "\n",
      "Please input the product name: test1\n",
      "\n",
      "Please input the new stock amount: 900\n"
     ]
    },
    {
     "name": "stdout",
     "output_type": "stream",
     "text": [
      "\n",
      "The new stock amount for item test1 is 900\n",
      "\n",
      "*********************************************\n",
      "* 1. Generate overall stats for all products (total #, avg #, min, and max)\n",
      "* 2. Calculate the amount for a given product\n",
      "* 3. Update the amount for a given product\n",
      "* 0. Exit\n",
      "*********************************************\n"
     ]
    },
    {
     "name": "stdin",
     "output_type": "stream",
     "text": [
      "\n",
      "Please select one option from the menu: 2\n",
      "Please input the product name: test1\n"
     ]
    },
    {
     "name": "stdout",
     "output_type": "stream",
     "text": [
      "\n",
      "The amount of this products in stock is: 900\n",
      "\n",
      "*********************************************\n",
      "* 1. Generate overall stats for all products (total #, avg #, min, and max)\n",
      "* 2. Calculate the amount for a given product\n",
      "* 3. Update the amount for a given product\n",
      "* 0. Exit\n",
      "*********************************************\n"
     ]
    },
    {
     "name": "stdin",
     "output_type": "stream",
     "text": [
      "\n",
      "Please select one option from the menu: 0\n"
     ]
    }
   ],
   "source": [
    "def main():\n",
    "    \n",
    "    stock = {\n",
    "    \"test1\" : 1,\n",
    "    \"test2\" : 20,\n",
    "    \"test3\" : 30,\n",
    "    \"test4\" : 50\n",
    "    }\n",
    "    \n",
    "    inp = show_functions()\n",
    "\n",
    "    while inp != 0:\n",
    "        \n",
    "        \n",
    "        if inp == 1:\n",
    "            gen_stats(stock)\n",
    "            inp = show_functions()\n",
    "\n",
    "        if inp == 2:\n",
    "            name = input(\"Please input the product name:\")\n",
    "            print(\"\\nThe amount of this products in stock is:\", check_stock(stock, name))\n",
    "            inp = show_functions()\n",
    "\n",
    "        if inp == 3:\n",
    "            name = input(\"\\nPlease input the product name:\")\n",
    "            new_stock = int(input(\"\\nPlease input the new stock amount:\"))\n",
    "            update_stock(stock, name, new_stock)\n",
    "            print(\"\\nThe new stock amount for item\", name, \"is\", stock.get(name))\n",
    "            inp = show_functions()\n",
    "\n",
    "\n",
    "if __name__ == '__main__':\n",
    "    main()"
   ]
  },
  {
   "cell_type": "code",
   "execution_count": null,
   "metadata": {},
   "outputs": [],
   "source": []
  }
 ],
 "metadata": {
  "kernelspec": {
   "display_name": "Python 3",
   "language": "python",
   "name": "python3"
  },
  "language_info": {
   "codemirror_mode": {
    "name": "ipython",
    "version": 3
   },
   "file_extension": ".py",
   "mimetype": "text/x-python",
   "name": "python",
   "nbconvert_exporter": "python",
   "pygments_lexer": "ipython3",
   "version": "3.8.3"
  }
 },
 "nbformat": 4,
 "nbformat_minor": 4
}
