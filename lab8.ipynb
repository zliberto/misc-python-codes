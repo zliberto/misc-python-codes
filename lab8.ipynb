{
 "cells": [
  {
   "cell_type": "markdown",
   "metadata": {},
   "source": [
    "## Lab 8\n",
    "Zuzanna Liberto<br>\n",
    "10/9/20\n"
   ]
  },
  {
   "cell_type": "markdown",
   "metadata": {},
   "source": [
    "### Task 1"
   ]
  },
  {
   "cell_type": "code",
   "execution_count": 29,
   "metadata": {},
   "outputs": [
    {
     "name": "stdout",
     "output_type": "stream",
     "text": [
      "Average balance of a male: 40018.00891454967\n",
      "Average balance of a female: 39471.89511627909\n"
     ]
    }
   ],
   "source": [
    "fh = open(\"customer-savings.txt\", \"r\")\n",
    "tab = fh.read()\n",
    "splt = tab.splitlines()\n",
    "\n",
    "male_bal = []\n",
    "fem_bal = []\n",
    "\n",
    "for i in range(0, len(splt)):\n",
    "    tem = splt[i]\n",
    "    tem_sp = tem.split(\",\")\n",
    "    if tem_sp[3] == \"Male\":\n",
    "        male_bal.append(tem_sp[8])\n",
    "    elif tem_sp[3] == \"Female\":\n",
    "        fem_bal.append(tem_sp[8])\n",
    "        \n",
    "sum_m = 0.0\n",
    "sum_f = 0.0\n",
    "\n",
    "for n in range(0, len(male_bal)):\n",
    "    sum_m = sum_m + float(male_bal[n])\n",
    "    \n",
    "for n in range(0, len(fem_bal)):\n",
    "    sum_f = sum_f + float(fem_bal[n])\n",
    "    \n",
    "male_avg = sum_m/len(male_bal)\n",
    "fem_avg = sum_f/len(fem_bal)\n",
    "\n",
    "\n",
    "print(\"Average balance of a male:\", male_avg)\n",
    "print(\"Average balance of a female:\", fem_avg)"
   ]
  },
  {
   "cell_type": "markdown",
   "metadata": {},
   "source": [
    "### Task 2"
   ]
  },
  {
   "cell_type": "code",
   "execution_count": 55,
   "metadata": {},
   "outputs": [
    {
     "name": "stdout",
     "output_type": "stream",
     "text": [
      "['527099,Sanford and Sons,bronze,S2-82423,3,76.21,228.63,2014-03-01 17:18:01', '527099,Sanford and Sons,bronze,B1-50809,8,70.78,566.24,2014-03-01 18:53:09', '688981,Keeling LLC,silver,B1-86481,-1,97.16,-97.16,2014-03-02 01:46:44', '729833,Koepp Ltd,silver,S1-82801,26,50.29,1307.54,2014-03-02 02:59:26', '307599,\"Kassulke, Ondricka and Metz\",bronze, Ondricka and Metz\",S1-93683,-1,86.38,-86.38', '412290,Jerde-Hilpert,bronze,S2-23246,27,58.87,1589.49,2014-03-02 12:10:30', '307599,\"Kassulke, Ondricka and Metz\",bronze, Ondricka and Metz\",S2-34077,48,53.36,2561.28', '141962,Herman LLC,gold,S2-10342,49,31.39,1538.11,2014-03-02 23:08:02', '257198,\"Cronin, Oberbrunner and Spencer\",gold, Oberbrunner and Spencer\",S2-16558,7,26.21,183.47', '257198,\"Cronin, Oberbrunner and Spencer\",gold, Oberbrunner and Spencer\",S2-23246,40,49.19,1967.6', '688981,Keeling LLC,silver,B1-38851,25,74.68,1867,2014-03-03 18:18:54', '239344,Stokes LLC,gold,S1-82801,41,78.9,3234.9,2014-03-04 01:06:20', '218895,Kulas Inc,bronze,S2-78676,38,89.02,3382.76,2014-03-04 01:17:11', '642753,Pollich LLC,bronze,S2-10342,40,56.85,2274,2014-03-04 01:49:22', '146832,Kiehn-Spinka,silver,B1-53636,5,72.16,360.8,2014-03-04 21:18:04', '412290,Jerde-Hilpert,bronze,S2-77896,43,76.66,3296.38,2014-03-04 23:10:28', '729833,Koepp Ltd,silver,S1-30248,13,44.84,582.92,2014-03-05 17:33:52', '424914,White-Trantow,silver,S2-82423,38,50.93,1935.34,2014-03-05 21:40:10', '672390,Kuhn-Gusikowski,silver,S1-50961,34,48.2,1638.8,2014-03-06 11:59:00', '239344,Stokes LLC,gold,S2-10342,34,36.93,1255.62,2014-03-06 23:49:16', '218895,Kulas Inc,bronze,S2-34077,30,99.73,2991.9,2014-03-07 05:15:29', '672390,Kuhn-Gusikowski,silver,B1-05914,25,89.86,2246.5,2014-03-07 06:25:52', '740150,Barton LLC,gold,S1-82801,29,60.81,1763.49,2014-03-07 10:24:54', '218895,Kulas Inc,bronze,B1-20000,23,99.57,2290.11,2014-03-07 13:34:00', '257198,\"Cronin, Oberbrunner and Spencer\",gold, Oberbrunner and Spencer\",S1-30248,14,91.37,1279.18', '672390,Kuhn-Gusikowski,silver,S2-83881,26,88.38,2297.88,2014-03-07 20:18:18', '424914,White-Trantow,silver,B1-53636,44,59.93,2636.92,2014-03-07 21:16:24', '307599,\"Kassulke, Ondricka and Metz\",bronze, Ondricka and Metz\",S2-10342,4,12.99,51.96', '527099,Sanford and Sons,bronze,S2-82423,44,23.3,1025.2,2014-03-09 00:18:55', '146832,Kiehn-Spinka,silver,S2-77896,27,70.76,1910.52,2014-03-09 11:05:47', '642753,Pollich LLC,bronze,B1-05914,15,65.5,982.5,2014-03-09 11:22:09', '786968,\"Frami, Hills and Schmidt\",silver, Hills and Schmidt\",S1-65481,14,44.67,625.38', '527099,Sanford and Sons,bronze,S1-82801,35,95.17,3330.95,2014-03-09 19:13:20', '257198,\"Cronin, Oberbrunner and Spencer\",gold, Oberbrunner and Spencer\",S2-23246,43,87.4,3758.2', '527099,Sanford and Sons,bronze,B1-65551,6,58.04,348.24,2014-03-10 05:52:17', '218895,Kulas Inc,bronze,S1-47412,21,94.45,1983.45,2014-03-10 11:02:14', '729833,Koepp Ltd,silver,S2-10342,12,93.64,1123.68,2014-03-10 13:08:45', '412290,Jerde-Hilpert,bronze,S1-82801,26,74.79,1944.54,2014-03-11 02:49:11', '642753,Pollich LLC,bronze,S2-77896,13,48.14,625.82,2014-03-11 06:19:26', '218895,Kulas Inc,bronze,B1-33364,17,93.01,1581.17,2014-03-11 08:20:57', '307599,\"Kassulke, Ondricka and Metz\",bronze, Ondricka and Metz\",S1-50961,28,34.87,976.36', '146832,Kiehn-Spinka,silver,S1-93683,17,10.63,180.71,2014-03-11 12:43:03', '672390,Kuhn-Gusikowski,silver,B1-38851,44,48.69,2142.36,2014-03-12 01:09:55', '307599,\"Kassulke, Ondricka and Metz\",bronze, Ondricka and Metz\",S2-82423,5,18.88,94.4', '257198,\"Cronin, Oberbrunner and Spencer\",gold, Oberbrunner and Spencer\",S1-93683,34,79.57,2705.38', '729833,Koepp Ltd,silver,B1-38851,2,61.18,122.36,2014-03-13 08:21:57', '146832,Kiehn-Spinka,silver,S2-77896,1,96.07,96.07,2014-03-13 09:41:36', '239344,Stokes LLC,gold,B1-38851,27,50.42,1361.34,2014-03-13 11:54:58', '672390,Kuhn-Gusikowski,silver,S1-93683,5,95.4,477,2014-03-14 00:19:31', '412290,Jerde-Hilpert,bronze,S2-10342,13,70.43,915.59,2014-03-14 10:04:49', '714466,Trantow-Barrows,silver,B1-33087,43,32.77,1409.11,2014-03-14 12:47:48', '672390,Kuhn-Gusikowski,silver,S1-47412,11,75.08,825.88,2014-03-14 16:15:23', '786968,\"Frami, Hills and Schmidt\",silver, Hills and Schmidt\",B1-33087,27,84.05,2269.35', '146832,Kiehn-Spinka,silver,S2-78676,26,42.67,1109.42,2014-03-14 23:19:26', '239344,Stokes LLC,gold,B1-20000,32,14,448,2014-03-15 02:48:09', '146832,Kiehn-Spinka,silver,B1-20000,41,98.48,4037.68,2014-03-15 12:28:14', '688981,Keeling LLC,silver,B1-86481,27,84.31,2276.37,2014-03-15 15:21:38', '740150,Barton LLC,gold,B1-20000,20,73.93,1478.6,2014-03-15 18:21:23', '141962,Herman LLC,gold,S1-47412,38,36.67,1393.46,2014-03-16 12:33:23', '672390,Kuhn-Gusikowski,silver,S1-93683,36,59.16,2129.76,2014-03-16 13:04:43', '740150,Barton LLC,gold,S2-83881,12,22.62,271.44,2014-03-17 02:39:33', '714466,Trantow-Barrows,silver,S2-16558,20,78.23,1564.6,2014-03-17 09:03:19', '257198,\"Cronin, Oberbrunner and Spencer\",gold, Oberbrunner and Spencer\",S1-82801,22,12.01,264.22', '146832,Kiehn-Spinka,silver,S1-47412,13,81.92,1064.96,2014-03-17 10:29:26', '672390,Kuhn-Gusikowski,silver,B1-20000,30,89.37,2681.1,2014-03-17 19:59:27', '412290,Jerde-Hilpert,bronze,B1-65551,32,64.37,2059.84,2014-03-17 22:14:01', '412290,Jerde-Hilpert,bronze,B1-65551,11,50.79,558.69,2014-03-18 07:22:45', '786968,\"Frami, Hills and Schmidt\",silver, Hills and Schmidt\",B1-04202,30,29.22,876.6', '218895,Kulas Inc,bronze,S2-78676,26,89.38,2323.88,2014-03-19 00:07:04', '239344,Stokes LLC,gold,B1-53636,34,51.3,1744.2,2014-03-19 04:03:32', '307599,\"Kassulke, Ondricka and Metz\",bronze, Ondricka and Metz\",S2-83881,45,88.54,3984.3', '146832,Kiehn-Spinka,silver,B1-33087,20,16.28,325.6,2014-03-20 02:53:47', '218895,Kulas Inc,bronze,S1-06532,12,99.3,1191.6,2014-03-20 09:49:19', '527099,Sanford and Sons,bronze,S1-27722,34,69.76,2371.84,2014-03-21 03:36:29', '672390,Kuhn-Gusikowski,silver,B1-86481,44,12.48,549.12,2014-03-21 05:49:17', '688981,Keeling LLC,silver,S2-34077,49,91.8,4498.2,2014-03-21 19:20:17', '688981,Keeling LLC,silver,S1-30248,10,88.76,887.6,2014-03-22 08:57:21', '786968,\"Frami, Hills and Schmidt\",silver, Hills and Schmidt\",S1-93683,6,76.56,459.36', '729833,Koepp Ltd,silver,S2-11481,18,31.43,565.74,2014-03-22 12:27:11', '527099,Sanford and Sons,bronze,B1-53102,17,57.52,977.84,2014-03-22 17:29:49', '786968,\"Frami, Hills and Schmidt\",silver, Hills and Schmidt\",B1-20000,28,82.3,2304.4', '424914,White-Trantow,silver,B1-33364,17,94.22,1601.74,2014-03-23 10:07:48', '672390,Kuhn-Gusikowski,silver,S2-83881,23,16.45,378.35,2014-03-23 15:17:11', '527099,Sanford and Sons,bronze,S1-82801,33,24.52,809.16,2014-03-23 18:17:56', '714466,Trantow-Barrows,silver,S2-34077,39,94.52,3686.28,2014-03-24 00:11:45', '688981,Keeling LLC,silver,S1-93683,14,16.6,232.4,2014-03-24 04:09:03', '412290,Jerde-Hilpert,bronze,B1-38851,36,71.97,2590.92,2014-03-24 12:48:26', '141962,Herman LLC,gold,S1-06532,41,83.61,3428.01,2014-03-24 23:36:24', '527099,Sanford and Sons,bronze,B1-33364,14,52.22,731.08,2014-03-25 08:26:19', '688981,Keeling LLC,silver,B1-04202,28,66.71,1867.88,2014-03-25 13:58:13', '424914,White-Trantow,silver,S2-23246,13,84.64,1100.32,2014-03-25 17:21:03', '218895,Kulas Inc,bronze,S1-50961,49,93.69,4590.81,2014-03-26 02:23:16', '688981,Keeling LLC,silver,S1-06532,23,70.8,1628.4,2014-03-26 06:23:07', '786968,\"Frami, Hills and Schmidt\",silver, Hills and Schmidt\",B1-53636,31,37.51,1162.81', '412290,Jerde-Hilpert,bronze,S2-77896,23,62.27,1432.21,2014-03-26 10:02:10', '218895,Kulas Inc,bronze,S1-27722,11,78.64,865.04,2014-03-26 23:07:48', '642753,Pollich LLC,bronze,S1-47412,46,20.98,965.08,2014-03-27 01:28:34', '257198,\"Cronin, Oberbrunner and Spencer\",gold, Oberbrunner and Spencer\",S2-00301,19,41.81,794.39', '786968,\"Frami, Hills and Schmidt\",silver, Hills and Schmidt\",S1-47412,43,62.78,2699.54', '146832,Kiehn-Spinka,silver,S1-65481,9,42.52,382.68,2014-03-27 07:23:53', '688981,Keeling LLC,silver,B1-38851,21,21.5,451.5,2014-03-27 09:54:17', '688981,Keeling LLC,silver,B1-38851,39,89.69,3497.91,2014-03-27 16:14:21', '257198,\"Cronin, Oberbrunner and Spencer\",gold, Oberbrunner and Spencer\",S1-30248,11,58.82,647.02', '412290,Jerde-Hilpert,bronze,S2-82423,14,13.98,195.72,2014-03-28 06:21:36', '714466,Trantow-Barrows,silver,B1-86481,6,97.21,583.26,2014-03-28 14:43:13', '239344,Stokes LLC,gold,S2-77896,10,91.51,915.1,2014-03-28 20:08:07', '239344,Stokes LLC,gold,S2-11481,19,18.89,358.91,2014-03-29 02:48:16', '714466,Trantow-Barrows,silver,S1-06532,46,56.79,2612.34,2014-03-29 05:19:56', '424914,White-Trantow,silver,B1-69924,19,32.8,623.2,2014-03-29 11:11:17', '729833,Koepp Ltd,silver,S1-82801,28,92.14,2579.92,2014-03-30 05:44:04', '257198,\"Cronin, Oberbrunner and Spencer\",gold, Oberbrunner and Spencer\",S2-77896,4,23.04,92.16', '424914,White-Trantow,silver,B1-38851,9,76.17,685.53,2014-03-30 23:20:58', '239344,Stokes LLC,gold,B1-05914,-1,57.02,-57.02,2014-03-31 06:08:18', '218895,Kulas Inc,bronze,S2-34077,49,59.88,2934.12,2014-03-31 08:09:41', '642753,Pollich LLC,bronze,S1-93683,21,92.57,1943.97,2014-03-31 11:37:34', '412290,Jerde-Hilpert,bronze,B1-20000,30,22.38,671.4,2014-03-31 21:41:31', '307599,\"Kassulke, Ondricka and Metz\",bronze, Ondricka and Metz\",S2-16558,46,56.04,2577.84', '672390,Kuhn-Gusikowski,silver,B1-04202,19,27.86,529.34,2014-03-31 23:13:14']\n"
     ]
    }
   ],
   "source": [
    "fh1 = open(\"customer-status.csv\", \"r\")\n",
    "tab1 = fh1.read()\n",
    "splt1 = tab1.splitlines()\n",
    "del splt1[0]\n",
    "\n",
    "fh2 = open(\"sales.csv\", \"r\")\n",
    "tab2 = fh2.read()\n",
    "splt2 = tab2.splitlines()\n",
    "del splt2[0]\n",
    "\n",
    "joined = []\n",
    "\n",
    "for i in range(0, len(splt2)):\n",
    "    tem = splt2[i]\n",
    "    tem_sp = tem.split(\",\")\n",
    "    \n",
    "    for j in range(0, len(splt1)):\n",
    "        tem2 = splt1[j]\n",
    "        tem_sp2 = tem2.split(\",\")\n",
    "    \n",
    "        if tem_sp[0] == tem_sp2[0] :\n",
    "            joined.append(splt1[j] + \",\" + tem_sp[2] + \",\" + tem_sp[3] + \",\" + tem_sp[4] + \",\" + tem_sp[5] + \",\" + tem_sp[6])\n",
    "        \n",
    "print(joined)"
   ]
  },
  {
   "cell_type": "code",
   "execution_count": null,
   "metadata": {},
   "outputs": [],
   "source": []
  }
 ],
 "metadata": {
  "kernelspec": {
   "display_name": "Python 3",
   "language": "python",
   "name": "python3"
  },
  "language_info": {
   "codemirror_mode": {
    "name": "ipython",
    "version": 3
   },
   "file_extension": ".py",
   "mimetype": "text/x-python",
   "name": "python",
   "nbconvert_exporter": "python",
   "pygments_lexer": "ipython3",
   "version": "3.8.3"
  }
 },
 "nbformat": 4,
 "nbformat_minor": 4
}
