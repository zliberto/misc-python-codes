{
 "cells": [
  {
   "cell_type": "markdown",
   "metadata": {},
   "source": [
    "## Lab 9\n",
    "Zuzanna Liberto<br>\n",
    "10/15/20\n"
   ]
  },
  {
   "cell_type": "code",
   "execution_count": 1,
   "metadata": {},
   "outputs": [],
   "source": [
    "import pandas as pd"
   ]
  },
  {
   "cell_type": "markdown",
   "metadata": {},
   "source": [
    "### Task 1"
   ]
  },
  {
   "cell_type": "code",
   "execution_count": 2,
   "metadata": {},
   "outputs": [],
   "source": [
    "chipo = pd.read_csv(\"chipotle.txt\",sep=\"\\t\")"
   ]
  },
  {
   "cell_type": "markdown",
   "metadata": {},
   "source": [
    "### Task 2"
   ]
  },
  {
   "cell_type": "code",
   "execution_count": 3,
   "metadata": {},
   "outputs": [
    {
     "data": {
      "text/html": [
       "<div>\n",
       "<style scoped>\n",
       "    .dataframe tbody tr th:only-of-type {\n",
       "        vertical-align: middle;\n",
       "    }\n",
       "\n",
       "    .dataframe tbody tr th {\n",
       "        vertical-align: top;\n",
       "    }\n",
       "\n",
       "    .dataframe thead th {\n",
       "        text-align: right;\n",
       "    }\n",
       "</style>\n",
       "<table border=\"1\" class=\"dataframe\">\n",
       "  <thead>\n",
       "    <tr style=\"text-align: right;\">\n",
       "      <th></th>\n",
       "      <th>order_id</th>\n",
       "      <th>quantity</th>\n",
       "      <th>item_name</th>\n",
       "      <th>choice_description</th>\n",
       "      <th>item_price</th>\n",
       "    </tr>\n",
       "  </thead>\n",
       "  <tbody>\n",
       "    <tr>\n",
       "      <th>0</th>\n",
       "      <td>1</td>\n",
       "      <td>1</td>\n",
       "      <td>Chips and Fresh Tomato Salsa</td>\n",
       "      <td>NaN</td>\n",
       "      <td>$2.39</td>\n",
       "    </tr>\n",
       "    <tr>\n",
       "      <th>1</th>\n",
       "      <td>1</td>\n",
       "      <td>1</td>\n",
       "      <td>Izze</td>\n",
       "      <td>[Clementine]</td>\n",
       "      <td>$3.39</td>\n",
       "    </tr>\n",
       "    <tr>\n",
       "      <th>2</th>\n",
       "      <td>1</td>\n",
       "      <td>1</td>\n",
       "      <td>Nantucket Nectar</td>\n",
       "      <td>[Apple]</td>\n",
       "      <td>$3.39</td>\n",
       "    </tr>\n",
       "    <tr>\n",
       "      <th>3</th>\n",
       "      <td>1</td>\n",
       "      <td>1</td>\n",
       "      <td>Chips and Tomatillo-Green Chili Salsa</td>\n",
       "      <td>NaN</td>\n",
       "      <td>$2.39</td>\n",
       "    </tr>\n",
       "    <tr>\n",
       "      <th>4</th>\n",
       "      <td>2</td>\n",
       "      <td>2</td>\n",
       "      <td>Chicken Bowl</td>\n",
       "      <td>[Tomatillo-Red Chili Salsa (Hot), [Black Beans...</td>\n",
       "      <td>$16.98</td>\n",
       "    </tr>\n",
       "    <tr>\n",
       "      <th>5</th>\n",
       "      <td>3</td>\n",
       "      <td>1</td>\n",
       "      <td>Chicken Bowl</td>\n",
       "      <td>[Fresh Tomato Salsa (Mild), [Rice, Cheese, Sou...</td>\n",
       "      <td>$10.98</td>\n",
       "    </tr>\n",
       "    <tr>\n",
       "      <th>6</th>\n",
       "      <td>3</td>\n",
       "      <td>1</td>\n",
       "      <td>Side of Chips</td>\n",
       "      <td>NaN</td>\n",
       "      <td>$1.69</td>\n",
       "    </tr>\n",
       "    <tr>\n",
       "      <th>7</th>\n",
       "      <td>4</td>\n",
       "      <td>1</td>\n",
       "      <td>Steak Burrito</td>\n",
       "      <td>[Tomatillo Red Chili Salsa, [Fajita Vegetables...</td>\n",
       "      <td>$11.75</td>\n",
       "    </tr>\n",
       "    <tr>\n",
       "      <th>8</th>\n",
       "      <td>4</td>\n",
       "      <td>1</td>\n",
       "      <td>Steak Soft Tacos</td>\n",
       "      <td>[Tomatillo Green Chili Salsa, [Pinto Beans, Ch...</td>\n",
       "      <td>$9.25</td>\n",
       "    </tr>\n",
       "    <tr>\n",
       "      <th>9</th>\n",
       "      <td>5</td>\n",
       "      <td>1</td>\n",
       "      <td>Steak Burrito</td>\n",
       "      <td>[Fresh Tomato Salsa, [Rice, Black Beans, Pinto...</td>\n",
       "      <td>$9.25</td>\n",
       "    </tr>\n",
       "  </tbody>\n",
       "</table>\n",
       "</div>"
      ],
      "text/plain": [
       "   order_id  quantity                              item_name  \\\n",
       "0         1         1           Chips and Fresh Tomato Salsa   \n",
       "1         1         1                                   Izze   \n",
       "2         1         1                       Nantucket Nectar   \n",
       "3         1         1  Chips and Tomatillo-Green Chili Salsa   \n",
       "4         2         2                           Chicken Bowl   \n",
       "5         3         1                           Chicken Bowl   \n",
       "6         3         1                          Side of Chips   \n",
       "7         4         1                          Steak Burrito   \n",
       "8         4         1                       Steak Soft Tacos   \n",
       "9         5         1                          Steak Burrito   \n",
       "\n",
       "                                  choice_description item_price  \n",
       "0                                                NaN     $2.39   \n",
       "1                                       [Clementine]     $3.39   \n",
       "2                                            [Apple]     $3.39   \n",
       "3                                                NaN     $2.39   \n",
       "4  [Tomatillo-Red Chili Salsa (Hot), [Black Beans...    $16.98   \n",
       "5  [Fresh Tomato Salsa (Mild), [Rice, Cheese, Sou...    $10.98   \n",
       "6                                                NaN     $1.69   \n",
       "7  [Tomatillo Red Chili Salsa, [Fajita Vegetables...    $11.75   \n",
       "8  [Tomatillo Green Chili Salsa, [Pinto Beans, Ch...     $9.25   \n",
       "9  [Fresh Tomato Salsa, [Rice, Black Beans, Pinto...     $9.25   "
      ]
     },
     "execution_count": 3,
     "metadata": {},
     "output_type": "execute_result"
    }
   ],
   "source": [
    "# returns the first 10 records\n",
    "chipo.head(10)"
   ]
  },
  {
   "cell_type": "code",
   "execution_count": 4,
   "metadata": {},
   "outputs": [
    {
     "name": "stdout",
     "output_type": "stream",
     "text": [
      "<class 'pandas.core.frame.DataFrame'>\n",
      "RangeIndex: 4622 entries, 0 to 4621\n",
      "Data columns (total 5 columns):\n",
      " #   Column              Non-Null Count  Dtype \n",
      "---  ------              --------------  ----- \n",
      " 0   order_id            4622 non-null   int64 \n",
      " 1   quantity            4622 non-null   int64 \n",
      " 2   item_name           4622 non-null   object\n",
      " 3   choice_description  3376 non-null   object\n",
      " 4   item_price          4622 non-null   object\n",
      "dtypes: int64(2), object(3)\n",
      "memory usage: 180.7+ KB\n"
     ]
    }
   ],
   "source": [
    "#  returns information about the data frame\n",
    "chipo.info()"
   ]
  },
  {
   "cell_type": "code",
   "execution_count": 5,
   "metadata": {},
   "outputs": [
    {
     "data": {
      "text/plain": [
       "(4622, 5)"
      ]
     },
     "execution_count": 5,
     "metadata": {},
     "output_type": "execute_result"
    }
   ],
   "source": [
    "# returns the shape of the dataframe\n",
    "chipo.shape"
   ]
  },
  {
   "cell_type": "code",
   "execution_count": 6,
   "metadata": {},
   "outputs": [
    {
     "data": {
      "text/plain": [
       "Index(['order_id', 'quantity', 'item_name', 'choice_description',\n",
       "       'item_price'],\n",
       "      dtype='object')"
      ]
     },
     "execution_count": 6,
     "metadata": {},
     "output_type": "execute_result"
    }
   ],
   "source": [
    "# returns the column names\n",
    "chipo.columns"
   ]
  },
  {
   "cell_type": "code",
   "execution_count": 7,
   "metadata": {},
   "outputs": [
    {
     "data": {
      "text/plain": [
       "RangeIndex(start=0, stop=4622, step=1)"
      ]
     },
     "execution_count": 7,
     "metadata": {},
     "output_type": "execute_result"
    }
   ],
   "source": [
    "# returns the range of indexes of the dataframe\n",
    "chipo.index"
   ]
  },
  {
   "cell_type": "markdown",
   "metadata": {},
   "source": [
    "### Task 3"
   ]
  },
  {
   "cell_type": "code",
   "execution_count": 8,
   "metadata": {},
   "outputs": [
    {
     "name": "stdout",
     "output_type": "stream",
     "text": [
      "The most ordered products\n",
      "                                        quantity\n",
      "item_name                                      \n",
      "Chicken Bowl                                726\n",
      "Chicken Burrito                             553\n",
      "Chips and Guacamole                         479\n",
      "Steak Burrito                               368\n",
      "Canned Soft Drink                           301\n",
      "Steak Bowl                                  211\n",
      "Chips                                       211\n",
      "Bottled Water                               162\n",
      "Chicken Soft Tacos                          115\n",
      "Chicken Salad Bowl                          110\n",
      "Chips and Fresh Tomato Salsa                110\n",
      "Canned Soda                                 104\n",
      "Side of Chips                               101\n",
      "Veggie Burrito                               95\n",
      "Barbacoa Burrito                             91\n",
      "Veggie Bowl                                  85\n",
      "Carnitas Bowl                                68\n",
      "Barbacoa Bowl                                66\n",
      "Carnitas Burrito                             59\n",
      "Steak Soft Tacos                             55\n",
      "6 Pack Soft Drink                            54\n",
      "Chips and Tomatillo Red Chili Salsa          48\n",
      "Chicken Crispy Tacos                         47\n",
      "Chips and Tomatillo Green Chili Salsa        43\n",
      "Carnitas Soft Tacos                          40\n",
      "Steak Crispy Tacos                           35\n",
      "Chips and Tomatillo-Green Chili Salsa        31\n",
      "Steak Salad Bowl                             29\n",
      "Nantucket Nectar                             27\n",
      "Barbacoa Soft Tacos                          25\n",
      "Chips and Roasted Chili Corn Salsa           22\n",
      "Chips and Tomatillo-Red Chili Salsa          20\n",
      "Izze                                         20\n",
      "Veggie Salad Bowl                            18\n",
      "Chips and Roasted Chili-Corn Salsa           18\n",
      "Barbacoa Crispy Tacos                        11\n",
      "Barbacoa Salad Bowl                          10\n",
      "Chicken Salad                                 9\n",
      "Carnitas Crispy Tacos                         7\n",
      "Veggie Soft Tacos                             7\n",
      "Burrito                                       6\n",
      "Veggie Salad                                  6\n",
      "Carnitas Salad Bowl                           6\n",
      "Steak Salad                                   4\n",
      "Bowl                                          2\n",
      "Salad                                         2\n",
      "Crispy Tacos                                  2\n",
      "Chips and Mild Fresh Tomato Salsa             1\n",
      "Carnitas Salad                                1\n",
      "Veggie Crispy Tacos                           1\n"
     ]
    }
   ],
   "source": [
    "item_group = chipo.groupby(\"item_name\")\n",
    "most_ordered = item_group.count().sort_values(\"quantity\", ascending = False)\n",
    "print(\"The most ordered products\\n\", most_ordered[[\"quantity\"]])"
   ]
  },
  {
   "cell_type": "markdown",
   "metadata": {},
   "source": [
    "### Task 4"
   ]
  },
  {
   "cell_type": "code",
   "execution_count": 9,
   "metadata": {},
   "outputs": [
    {
     "name": "stdout",
     "output_type": "stream",
     "text": [
      "The most ordered items in choice description:\n",
      " choice_description\n",
      "[Diet Coke]                                                                                             134\n",
      "[Coke]                                                                                                  123\n",
      "[Sprite]                                                                                                 77\n",
      "[Fresh Tomato Salsa, [Rice, Black Beans, Cheese, Sour Cream, Lettuce]]                                   42\n",
      "[Fresh Tomato Salsa, [Rice, Black Beans, Cheese, Sour Cream, Guacamole, Lettuce]]                        40\n",
      "[Fresh Tomato Salsa (Mild), [Pinto Beans, Rice, Cheese, Sour Cream]]                                     36\n",
      "[Fresh Tomato Salsa, [Rice, Black Beans, Cheese, Sour Cream]]                                            33\n",
      "[Lemonade]                                                                                               33\n",
      "[Fresh Tomato Salsa, [Rice, Cheese, Sour Cream, Lettuce]]                                                29\n",
      "[Fresh Tomato Salsa, [Rice, Black Beans, Cheese]]                                                        28\n",
      "[Fresh Tomato Salsa, [Rice, Cheese, Lettuce]]                                                            26\n",
      "[Coca Cola]                                                                                              26\n",
      "[Fresh Tomato Salsa, [Rice, Black Beans, Cheese, Lettuce]]                                               25\n",
      "[Fresh Tomato Salsa, [Rice, Cheese, Sour Cream]]                                                         23\n",
      "[Fresh Tomato Salsa, [Rice, Black Beans, Cheese, Sour Cream, Guacamole]]                                 22\n",
      "[Fresh Tomato Salsa, [Fajita Vegetables, Rice]]                                                          22\n",
      "[Fresh Tomato Salsa, [Fajita Vegetables, Rice, Black Beans, Cheese, Sour Cream, Lettuce]]                21\n",
      "[Fresh Tomato Salsa, [Rice, Black Beans, Cheese, Guacamole, Lettuce]]                                    21\n",
      "[Roasted Chili Corn Salsa, [Rice, Black Beans, Cheese, Sour Cream, Lettuce]]                             21\n",
      "[Fresh Tomato Salsa, [Fajita Vegetables, Rice, Black Beans, Cheese, Sour Cream, Guacamole, Lettuce]]     20\n",
      "Name: quantity, dtype: int64\n"
     ]
    }
   ],
   "source": [
    "desc_group = chipo.groupby(\"choice_description\")\n",
    "most_desc = desc_group.count().sort_values(\"quantity\", ascending = False)\n",
    "print(\"The most ordered items in choice description:\\n\", most_desc[\"quantity\"].head(20))"
   ]
  },
  {
   "cell_type": "markdown",
   "metadata": {},
   "source": [
    "### Task 5"
   ]
  },
  {
   "cell_type": "code",
   "execution_count": 10,
   "metadata": {},
   "outputs": [
    {
     "name": "stdout",
     "output_type": "stream",
     "text": [
      "Number of items ordered in total:\n",
      " 4972\n"
     ]
    }
   ],
   "source": [
    "sum_quant = chipo[\"quantity\"].sum()\n",
    "print(\"Number of items ordered in total:\\n\", sum_quant)"
   ]
  },
  {
   "cell_type": "markdown",
   "metadata": {},
   "source": [
    "### Task 6"
   ]
  },
  {
   "cell_type": "code",
   "execution_count": 11,
   "metadata": {},
   "outputs": [
    {
     "name": "stdout",
     "output_type": "stream",
     "text": [
      "Total revenue is:\t$ 39237.02\n"
     ]
    }
   ],
   "source": [
    "chipo[\"item_price\"] = chipo[\"item_price\"].str.replace(\"$\", \"\")\n",
    "chipo[\"item_price\"] = pd.to_numeric(chipo[\"item_price\"])\n",
    "chipo[\"totals\"] = chipo[\"quantity\"] * chipo[\"item_price\"]\n",
    "print(\"Total revenue is:\\t$\", chipo[\"totals\"].sum())"
   ]
  },
  {
   "cell_type": "markdown",
   "metadata": {},
   "source": [
    "### Task 7"
   ]
  },
  {
   "cell_type": "code",
   "execution_count": 12,
   "metadata": {},
   "outputs": [
    {
     "name": "stdout",
     "output_type": "stream",
     "text": [
      "Number of orders: 1834\n"
     ]
    }
   ],
   "source": [
    "n_orders = chipo[\"order_id\"].nunique()\n",
    "print(\"Number of orders:\", n_orders)"
   ]
  },
  {
   "cell_type": "markdown",
   "metadata": {},
   "source": [
    "### Task 8"
   ]
  },
  {
   "cell_type": "code",
   "execution_count": 13,
   "metadata": {},
   "outputs": [
    {
     "name": "stdout",
     "output_type": "stream",
     "text": [
      "Average order price: \t$ 8.49 \n",
      "Average quantity:\t 1.0\n"
     ]
    }
   ],
   "source": [
    "average_total = chipo[\"totals\"].mean()\n",
    "average_quant = chipo[\"quantity\"].mean()\n",
    "\n",
    "print(\"Average order price: \\t$\", round(average_total,2) , \"\\nAverage quantity:\\t\", round(average_quant, 0))"
   ]
  },
  {
   "cell_type": "markdown",
   "metadata": {},
   "source": [
    "### Task 9"
   ]
  },
  {
   "cell_type": "code",
   "execution_count": 14,
   "metadata": {},
   "outputs": [
    {
     "name": "stdout",
     "output_type": "stream",
     "text": [
      "Number of unique item names: 50\n"
     ]
    }
   ],
   "source": [
    "n_unique = chipo[\"item_name\"].nunique()\n",
    "print(\"Number of unique item names:\", n_unique)"
   ]
  }
 ],
 "metadata": {
  "kernelspec": {
   "display_name": "Python 3",
   "language": "python",
   "name": "python3"
  },
  "language_info": {
   "codemirror_mode": {
    "name": "ipython",
    "version": 3
   },
   "file_extension": ".py",
   "mimetype": "text/x-python",
   "name": "python",
   "nbconvert_exporter": "python",
   "pygments_lexer": "ipython3",
   "version": "3.8.3"
  }
 },
 "nbformat": 4,
 "nbformat_minor": 4
}
