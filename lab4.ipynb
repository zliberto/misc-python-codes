{
 "cells": [
  {
   "cell_type": "markdown",
   "metadata": {},
   "source": [
    "## Lab 4 Loops\n",
    "### Zuzanna Liberto"
   ]
  },
  {
   "cell_type": "markdown",
   "metadata": {},
   "source": [
    "**Exercise 1**"
   ]
  },
  {
   "cell_type": "code",
   "execution_count": 1,
   "metadata": {},
   "outputs": [
    {
     "name": "stdout",
     "output_type": "stream",
     "text": [
      "Numbers in one line\n",
      "1 \t2 \t3 \t4 \t5 \t6 \t7 \t8 \t9 \t10 \t"
     ]
    }
   ],
   "source": [
    "print(\"Numbers in one line\")\n",
    "n = 10\n",
    "for i in range(1, n + 1):\n",
    "    print(i, \"\\t\", end = \"\")\n",
    "        "
   ]
  },
  {
   "cell_type": "markdown",
   "metadata": {},
   "source": [
    "**Exercise 2**"
   ]
  },
  {
   "cell_type": "code",
   "execution_count": 2,
   "metadata": {},
   "outputs": [
    {
     "name": "stdout",
     "output_type": "stream",
     "text": [
      " **********\n",
      "  *********\n",
      "   ********\n",
      "    *******\n",
      "     ******\n",
      "      *****\n",
      "       ****\n",
      "        ***\n",
      "         **\n",
      "          *\n"
     ]
    }
   ],
   "source": [
    "n = 10\n",
    "for i in range(1, n + 1):\n",
    "    print(i * \" \" + (n + 1 - i) * \"*\")\n",
    "\n"
   ]
  },
  {
   "cell_type": "markdown",
   "metadata": {},
   "source": [
    "**Exercise 3**"
   ]
  },
  {
   "cell_type": "code",
   "execution_count": 3,
   "metadata": {},
   "outputs": [
    {
     "name": "stdout",
     "output_type": "stream",
     "text": [
      "           *\n",
      "          ***\n",
      "         *****\n",
      "        *******\n",
      "       *********\n",
      "      ***********\n",
      "     *************\n",
      "    ***************\n",
      "   *****************\n",
      "  *******************\n"
     ]
    }
   ],
   "source": [
    "n = 10\n",
    "for i in range(1, n + 1):\n",
    "    print((n + 1 - i) * \" \", (i * 2 - 1) * \"*\")"
   ]
  },
  {
   "cell_type": "markdown",
   "metadata": {},
   "source": [
    "**Exercise 4**"
   ]
  },
  {
   "cell_type": "code",
   "execution_count": 4,
   "metadata": {},
   "outputs": [
    {
     "name": "stdout",
     "output_type": "stream",
     "text": [
      "        *\n",
      "       ***\n",
      "      *****\n",
      "     *******\n",
      "    *********\n",
      "   ***********\n",
      "  *************\n",
      "   ***********\n",
      "    *********\n",
      "     *******\n",
      "      *****\n",
      "       ***\n",
      "        *\n"
     ]
    }
   ],
   "source": [
    "n = 7\n",
    "for i in range(1, n + 1):\n",
    "    print((n + 1 - i) * \" \", (i * 2 - 1) * \"*\")\n",
    "for i in reversed(range (1, n)):\n",
    "    print((n + 1 - i) * \" \", (i * 2 - 1) * \"*\")\n"
   ]
  },
  {
   "cell_type": "markdown",
   "metadata": {},
   "source": [
    "**Exercise 5**\n"
   ]
  },
  {
   "cell_type": "code",
   "execution_count": 5,
   "metadata": {},
   "outputs": [],
   "source": [
    "from PIL import Image\n",
    "\n",
    "image = Image.new(\"RGB\", (8, 8), \"white\")\n",
    "\n",
    "pix = image.load()\n",
    "\n",
    "for w in range(8):\n",
    "    for h in range(8):\n",
    "        if (w + h) % 2 != 0:\n",
    "            pix[w,h] = (0,0,0)\n",
    "\n",
    "image.show()        \n"
   ]
  },
  {
   "cell_type": "markdown",
   "metadata": {},
   "source": [
    "**Exercise 6**"
   ]
  },
  {
   "cell_type": "code",
   "execution_count": 6,
   "metadata": {},
   "outputs": [
    {
     "name": "stdin",
     "output_type": "stream",
     "text": [
      "Enter your guess: 650\n"
     ]
    },
    {
     "name": "stdout",
     "output_type": "stream",
     "text": [
      "Try a smaller number\n"
     ]
    },
    {
     "name": "stdin",
     "output_type": "stream",
     "text": [
      "Enter your guess: 300\n"
     ]
    },
    {
     "name": "stdout",
     "output_type": "stream",
     "text": [
      "Try a larger number\n"
     ]
    },
    {
     "name": "stdin",
     "output_type": "stream",
     "text": [
      "Enter your guess: 400\n"
     ]
    },
    {
     "name": "stdout",
     "output_type": "stream",
     "text": [
      "Try a larger number\n"
     ]
    },
    {
     "name": "stdin",
     "output_type": "stream",
     "text": [
      "Enter your guess: 500\n"
     ]
    },
    {
     "name": "stdout",
     "output_type": "stream",
     "text": [
      "Try a larger number\n"
     ]
    },
    {
     "name": "stdin",
     "output_type": "stream",
     "text": [
      "Enter your guess: 550\n"
     ]
    },
    {
     "name": "stdout",
     "output_type": "stream",
     "text": [
      "Try a larger number\n"
     ]
    },
    {
     "name": "stdin",
     "output_type": "stream",
     "text": [
      "Enter your guess: 580\n"
     ]
    },
    {
     "name": "stdout",
     "output_type": "stream",
     "text": [
      "Try a larger number\n"
     ]
    },
    {
     "name": "stdin",
     "output_type": "stream",
     "text": [
      "Enter your guess: 600\n"
     ]
    },
    {
     "name": "stdout",
     "output_type": "stream",
     "text": [
      "Try a larger number\n"
     ]
    },
    {
     "name": "stdin",
     "output_type": "stream",
     "text": [
      "Enter your guess: 620\n"
     ]
    },
    {
     "name": "stdout",
     "output_type": "stream",
     "text": [
      "Try a smaller number\n"
     ]
    },
    {
     "name": "stdin",
     "output_type": "stream",
     "text": [
      "Enter your guess: 610\n"
     ]
    },
    {
     "name": "stdout",
     "output_type": "stream",
     "text": [
      "Try a smaller number\n"
     ]
    },
    {
     "name": "stdin",
     "output_type": "stream",
     "text": [
      "Enter your guess: 601\n"
     ]
    },
    {
     "name": "stdout",
     "output_type": "stream",
     "text": [
      "Try a larger number\n"
     ]
    },
    {
     "name": "stdin",
     "output_type": "stream",
     "text": [
      "Enter your guess: 602\n"
     ]
    },
    {
     "name": "stdout",
     "output_type": "stream",
     "text": [
      "Try a larger number\n"
     ]
    },
    {
     "name": "stdin",
     "output_type": "stream",
     "text": [
      "Enter your guess: 603\n"
     ]
    },
    {
     "name": "stdout",
     "output_type": "stream",
     "text": [
      "Try a larger number\n"
     ]
    },
    {
     "name": "stdin",
     "output_type": "stream",
     "text": [
      "Enter your guess: 606\n"
     ]
    },
    {
     "name": "stdout",
     "output_type": "stream",
     "text": [
      "Try a smaller number\n"
     ]
    },
    {
     "name": "stdin",
     "output_type": "stream",
     "text": [
      "Enter your guess: 605\n"
     ]
    },
    {
     "name": "stdout",
     "output_type": "stream",
     "text": [
      "Bingo!\n",
      "Good job!\n"
     ]
    }
   ],
   "source": [
    "import random\n",
    "\n",
    "number = random.randint(0, 1000)\n",
    "\n",
    "count = 0\n",
    "\n",
    "guessed = 0\n",
    "\n",
    "while (count < 20):\n",
    "    guess = int(input(\"Enter your guess:\"))\n",
    "    count = count + 1\n",
    "    if guess < number:\n",
    "        print(\"Try a larger number\")\n",
    "    elif guess > number:\n",
    "        print(\"Try a smaller number\")\n",
    "    elif guess == number:\n",
    "        guessed = 1\n",
    "        print(\"Bingo!\")\n",
    "        break\n",
    "    \n",
    "if (guessed == 1):        \n",
    "    if (count <= 10 ):\n",
    "        print(\"Wonderful job!\")\n",
    "    elif (count > 10 & count <= 20):\n",
    "        print(\"Good job!\")\n",
    "else:\n",
    "    print(\"Try to do better next time.\")\n",
    "    "
   ]
  },
  {
   "cell_type": "code",
   "execution_count": null,
   "metadata": {},
   "outputs": [],
   "source": []
  }
 ],
 "metadata": {
  "kernelspec": {
   "display_name": "Python 3",
   "language": "python",
   "name": "python3"
  },
  "language_info": {
   "codemirror_mode": {
    "name": "ipython",
    "version": 3
   },
   "file_extension": ".py",
   "mimetype": "text/x-python",
   "name": "python",
   "nbconvert_exporter": "python",
   "pygments_lexer": "ipython3",
   "version": "3.8.3"
  }
 },
 "nbformat": 4,
 "nbformat_minor": 4
}
