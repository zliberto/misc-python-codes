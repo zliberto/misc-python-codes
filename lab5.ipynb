{
 "cells": [
  {
   "cell_type": "markdown",
   "metadata": {},
   "source": [
    "## Lab 5\n",
    "Zuzanna Liberto<br>\n",
    "9.24.2020\n"
   ]
  },
  {
   "cell_type": "markdown",
   "metadata": {},
   "source": [
    "### Exercise 1"
   ]
  },
  {
   "cell_type": "code",
   "execution_count": 3,
   "metadata": {},
   "outputs": [
    {
     "name": "stdin",
     "output_type": "stream",
     "text": [
      "Please input a sentence: world\n"
     ]
    },
    {
     "name": "stdout",
     "output_type": "stream",
     "text": [
      "w , 1\n",
      "o , 1\n",
      "r , 1\n",
      "l , 1\n",
      "d , 1\n"
     ]
    }
   ],
   "source": [
    "sentence = input(\"Please input a sentence:\")\n",
    "dictionary = {}\n",
    "\n",
    "for i in range(0, len(sentence)):\n",
    "    letter = sentence[i]\n",
    "    \n",
    "    if letter != \" \":\n",
    "        if letter not in dictionary:\n",
    "            dictionary[letter] = 1\n",
    "        else:\n",
    "            dictionary[letter] = dictionary[letter]+1\n",
    "    \n",
    "for key in dictionary:\n",
    "    print(key, \",\", dictionary[key])"
   ]
  },
  {
   "cell_type": "markdown",
   "metadata": {},
   "source": [
    "### Exercise 2"
   ]
  },
  {
   "cell_type": "code",
   "execution_count": 5,
   "metadata": {},
   "outputs": [
    {
     "name": "stdin",
     "output_type": "stream",
     "text": [
      "please select operation: (1: sort by key, 2: sort by value): 2\n"
     ]
    },
    {
     "name": "stdout",
     "output_type": "stream",
     "text": [
      "y , 2\n",
      "m , 2\n",
      "a , 3\n",
      "x , 7\n"
     ]
    }
   ],
   "source": [
    "d={'x': 7, 'y': 2, 'a': 3, 'm': 2}\n",
    "\n",
    "inp = int(input(\"please select operation: (1: sort by key, 2: sort by value):\"))\n",
    "\n",
    "if inp == 1:\n",
    "    for key in sorted(d):\n",
    "        print(key, \",\", d[key])\n",
    "elif inp == 2:\n",
    "    for key in sorted(d, key=d.get):\n",
    "        print(key, \",\", d[key])\n",
    "    "
   ]
  },
  {
   "cell_type": "code",
   "execution_count": null,
   "metadata": {},
   "outputs": [],
   "source": []
  }
 ],
 "metadata": {
  "kernelspec": {
   "display_name": "Python 3",
   "language": "python",
   "name": "python3"
  },
  "language_info": {
   "codemirror_mode": {
    "name": "ipython",
    "version": 3
   },
   "file_extension": ".py",
   "mimetype": "text/x-python",
   "name": "python",
   "nbconvert_exporter": "python",
   "pygments_lexer": "ipython3",
   "version": "3.8.3"
  }
 },
 "nbformat": 4,
 "nbformat_minor": 4
}
