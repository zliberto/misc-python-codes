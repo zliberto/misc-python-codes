{
 "cells": [
  {
   "cell_type": "markdown",
   "metadata": {},
   "source": [
    "# Assignment 1\n",
    "Zuzanna Liberto <br>\n",
    "9/12/2020<br>"
   ]
  },
  {
   "cell_type": "markdown",
   "metadata": {},
   "source": [
    "## Exercise 1.1\n"
   ]
  },
  {
   "cell_type": "code",
   "execution_count": 1,
   "metadata": {},
   "outputs": [
    {
     "name": "stdout",
     "output_type": "stream",
     "text": [
      "   *\n",
      "  ***\n",
      " *****\n"
     ]
    }
   ],
   "source": [
    "print(\"   *\\n  ***\\n *****\")"
   ]
  },
  {
   "cell_type": "markdown",
   "metadata": {},
   "source": [
    "## Exercise 1.2"
   ]
  },
  {
   "cell_type": "code",
   "execution_count": 2,
   "metadata": {},
   "outputs": [],
   "source": [
    "# quadratic formula: ax^2 + bx + c\n",
    "# our equation: a = 1, b = -40, c = 391"
   ]
  },
  {
   "cell_type": "code",
   "execution_count": 3,
   "metadata": {},
   "outputs": [
    {
     "name": "stdout",
     "output_type": "stream",
     "text": [
      "Root 1 is:  23.0 \n",
      "Root 2 is:  17.0\n"
     ]
    }
   ],
   "source": [
    "import math\n",
    "\n",
    "a = 1\n",
    "b = -40\n",
    "c = 391\n",
    "\n",
    "common_part = math.sqrt((b**2)-4*a*c)\n",
    "\n",
    "root_1 = (-b+common_part)/(2*a)\n",
    "root_2 = (-b-common_part)/(2*a)\n",
    "\n",
    "print(\"Root 1 is: \", root_1, \"\\nRoot 2 is: \", root_2)"
   ]
  },
  {
   "cell_type": "markdown",
   "metadata": {},
   "source": [
    "## Exercise 1.3\n"
   ]
  },
  {
   "cell_type": "code",
   "execution_count": 4,
   "metadata": {},
   "outputs": [
    {
     "name": "stdin",
     "output_type": "stream",
     "text": [
      "Please input the value of X: 15\n",
      "Please input the value of Y: 10\n"
     ]
    },
    {
     "name": "stdout",
     "output_type": "stream",
     "text": [
      "The result of the first operation is:  5.0\n",
      "The result of the second operation is:  125\n",
      "The last digit of X+Y is:  5\n"
     ]
    }
   ],
   "source": [
    "x_inp = int(input(\"Please input the value of X:\"))\n",
    "y_inp = int(input(\"Please input the value of Y:\"))\n",
    "\n",
    "print(\"The result of the first operation is: \", (x_inp + y_inp)/(x_inp - y_inp))\n",
    "print(\"The result of the second operation is: \", (x_inp - y_inp)**3)\n",
    "print(\"The last digit of X+Y is: \", (x_inp + y_inp)%10)\n"
   ]
  },
  {
   "cell_type": "markdown",
   "metadata": {},
   "source": [
    "## Exercise 1.4\n"
   ]
  },
  {
   "cell_type": "code",
   "execution_count": 5,
   "metadata": {},
   "outputs": [
    {
     "name": "stdin",
     "output_type": "stream",
     "text": [
      "Please enter player 1 move (rock, paper or scissors):  rock\n",
      "Please enter player 2 move (rock, paper or scissors):  paper\n"
     ]
    },
    {
     "name": "stdout",
     "output_type": "stream",
     "text": [
      "Player 2 wins!\n"
     ]
    }
   ],
   "source": [
    "p1 = input(\"Please enter player 1 move (rock, paper or scissors): \")\n",
    "p2 = input(\"Please enter player 2 move (rock, paper or scissors): \")\n",
    "\n",
    "if (p1 == \"rock\"):\n",
    "    if (p2 == \"paper\"):\n",
    "        print(\"Player 2 wins!\")\n",
    "    elif (p2 == \"scissors\"):\n",
    "        print(\"Player 1 wins!\")\n",
    "    elif (p2 == \"rock\"):\n",
    "        print(\"Tie!\")\n",
    "    else:\n",
    "        print(\"Invalid input\")\n",
    "elif (p1 == \"paper\"):\n",
    "    if (p2 == \"paper\"):\n",
    "        print(\"Tie!\")\n",
    "    elif (p2 == \"scissors\"):\n",
    "        print(\"Player 2 wins!\")\n",
    "    elif (p2 == \"rock\"):\n",
    "        print(\"Player 1 wins!\")\n",
    "    else:\n",
    "        print(\"Invalid input\")   \n",
    "elif (p1 == \"scissors\"):\n",
    "    if (p2 == \"paper\"):\n",
    "        print(\"Player 1 wins!\")\n",
    "    elif (p2 == \"scissors\"):\n",
    "        print(\"Tie!\")\n",
    "    elif (p2 == \"rock\"):\n",
    "        print(\"Player 2 wins!\")\n",
    "    else:\n",
    "        print(\"Invalid input\")\n",
    "else:\n",
    "    print(\"Invalid input\")\n",
    "        \n"
   ]
  },
  {
   "cell_type": "markdown",
   "metadata": {},
   "source": [
    "## Exercise 1.5\n"
   ]
  },
  {
   "cell_type": "code",
   "execution_count": 6,
   "metadata": {},
   "outputs": [
    {
     "name": "stdin",
     "output_type": "stream",
     "text": [
      "Please enter the temperature: 0\n",
      "Is this Celsius of Fahrenheit?: C\n"
     ]
    },
    {
     "name": "stdout",
     "output_type": "stream",
     "text": [
      "0  is  32.0  in Fahrenheit\n"
     ]
    }
   ],
   "source": [
    "temp = int(input(\"Please enter the temperature:\"))\n",
    "c_or_f = input(\"Is this Celsius of Fahrenheit?:\")\n",
    "\n",
    "if (c_or_f == \"C\"):\n",
    "    c2f_conv = (9/5)*temp+32\n",
    "    print(temp, \" is \", round(c2f_conv, 0),\" in Fahrenheit\")\n",
    "elif (c_or_f == \"F\"):\n",
    "    f2c_conv = (5/9)*(temp-32)\n",
    "    print(temp, \" is \", round(f2c_conv, 0),\" in Celsius\")\n",
    "else:\n",
    "    print(\"Invalid input. Please enter (capital) C for Celsius or F for Fahrenheit\")\n",
    "\n"
   ]
  }
 ],
 "metadata": {
  "kernelspec": {
   "display_name": "Python 3",
   "language": "python",
   "name": "python3"
  },
  "language_info": {
   "codemirror_mode": {
    "name": "ipython",
    "version": 3
   },
   "file_extension": ".py",
   "mimetype": "text/x-python",
   "name": "python",
   "nbconvert_exporter": "python",
   "pygments_lexer": "ipython3",
   "version": "3.8.3"
  }
 },
 "nbformat": 4,
 "nbformat_minor": 4
}
