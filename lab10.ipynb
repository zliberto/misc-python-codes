{
 "cells": [
  {
   "cell_type": "markdown",
   "metadata": {},
   "source": [
    "## Lab 10\n",
    "Zuzanna Liberto<br>\n",
    "10/22/20\n"
   ]
  },
  {
   "cell_type": "code",
   "execution_count": 72,
   "metadata": {},
   "outputs": [],
   "source": [
    "import numpy as np\n",
    "import matplotlib.pyplot as plt"
   ]
  },
  {
   "cell_type": "markdown",
   "metadata": {},
   "source": [
    "### Q1.1"
   ]
  },
  {
   "cell_type": "code",
   "execution_count": 8,
   "metadata": {},
   "outputs": [
    {
     "name": "stdout",
     "output_type": "stream",
     "text": [
      "The minimum value is: 0.02969530321259828\n",
      "The maximum value is: 0.9023562222242254\n"
     ]
    }
   ],
   "source": [
    "rand_arr = np.random.random([5,5])\n",
    "min_val = np.min(rand_arr)\n",
    "print(\"The minimum value is:\", min_val)\n",
    "max_val = np.max(rand_arr)\n",
    "print(\"The maximum value is:\", max_val)\n"
   ]
  },
  {
   "cell_type": "markdown",
   "metadata": {},
   "source": [
    "### Q1.2"
   ]
  },
  {
   "cell_type": "code",
   "execution_count": 15,
   "metadata": {},
   "outputs": [
    {
     "name": "stdout",
     "output_type": "stream",
     "text": [
      "The first five rows:\n",
      " [[0.9564168  0.66616456 0.51531144 0.54373469]\n",
      " [0.95535186 0.19124196 0.65996207 0.12016996]\n",
      " [0.20177915 0.61842577 0.09357599 0.18166612]\n",
      " [0.90795225 0.01414147 0.12888277 0.3913203 ]\n",
      " [0.11344175 0.12534724 0.7514891  0.32814275]]\n"
     ]
    }
   ],
   "source": [
    "rand_10x4 = np.random.random([10,4])\n",
    "five_rows = rand_10x4[:5]\n",
    "print(\"The first five rows:\\n\",five_rows)"
   ]
  },
  {
   "cell_type": "markdown",
   "metadata": {},
   "source": [
    "### Q1.3"
   ]
  },
  {
   "cell_type": "code",
   "execution_count": 21,
   "metadata": {},
   "outputs": [
    {
     "name": "stdout",
     "output_type": "stream",
     "text": [
      "[0.03314921 0.04798092 0.07067068 0.07679039 0.18303329 0.32761344\n",
      " 0.58349386 0.89122827 0.91689718 0.98882861]\n"
     ]
    }
   ],
   "source": [
    "rand_vec = np.random.random([10])\n",
    "rand_sort = np.sort(rand_vec, axis = 0)\n",
    "print(rand_sort)"
   ]
  },
  {
   "cell_type": "markdown",
   "metadata": {},
   "source": [
    "### Q1.4"
   ]
  },
  {
   "cell_type": "code",
   "execution_count": 90,
   "metadata": {},
   "outputs": [
    {
     "name": "stdout",
     "output_type": "stream",
     "text": [
      "[7 3 0 2 3 2 5 1 5 6]\n",
      "The most frequent number is: 2\n"
     ]
    }
   ],
   "source": [
    "vec = np.random.randint(0,10,[10])\n",
    "print(vec)\n",
    "bins = np.bincount(vec)\n",
    "print(\"The most frequent number is:\", np.argmax(bins))\n"
   ]
  },
  {
   "cell_type": "markdown",
   "metadata": {},
   "source": [
    "### Q2.1"
   ]
  },
  {
   "cell_type": "code",
   "execution_count": 92,
   "metadata": {},
   "outputs": [
    {
     "name": "stdout",
     "output_type": "stream",
     "text": [
      "[[0.66471638 0.88150859]\n",
      " [0.85454692 0.97342756]]\n",
      "The minimum value of the second axis is: 0.6647163838075567\n"
     ]
    }
   ],
   "source": [
    "arr_2x2 = np.random.random([2,2])\n",
    "print(arr_2x2)\n",
    "\n",
    "min_v = np.amin(arr_2x2, 1)\n",
    "\n",
    "print(\"The minimum value of the second axis is:\", np.min(min_v))"
   ]
  },
  {
   "cell_type": "markdown",
   "metadata": {},
   "source": [
    "### Q2.2"
   ]
  },
  {
   "cell_type": "code",
   "execution_count": 93,
   "metadata": {},
   "outputs": [
    {
     "name": "stdout",
     "output_type": "stream",
     "text": [
      "[[9 9 3 4 4]\n",
      " [0 7 5 1 5]]\n",
      "9\n"
     ]
    }
   ],
   "source": [
    "arr_2x5 = np.random.randint(0,10,[2,5])\n",
    "print(arr_2x5)\n",
    "\n",
    "#get min and max of each axis\n",
    "min_v = np.min(np.amin(arr_2x5, 1))\n",
    "max_v = np.max(np.amax(arr_2x5,1))\n",
    "\n",
    "#this is the difference\n",
    "diff = max_v - min_v\n",
    "print(diff)"
   ]
  },
  {
   "cell_type": "markdown",
   "metadata": {},
   "source": [
    "### Q2.3"
   ]
  },
  {
   "cell_type": "code",
   "execution_count": 94,
   "metadata": {},
   "outputs": [
    {
     "name": "stdout",
     "output_type": "stream",
     "text": [
      "[[4 0 5]\n",
      " [2 0 9]]\n",
      "Values larger than 2: [4 5 9]\n",
      "Indices of elements > 2: (array([0, 0, 1, 1]), array([0, 2, 0, 2]))\n"
     ]
    }
   ],
   "source": [
    "arr_2x3 = np.random.randint(0,10,[2,3])\n",
    "print(arr_2x3)\n",
    "\n",
    "#values larger than 2\n",
    "vals = arr_2x3[arr_2x3 > 2]\n",
    "print(\"Values larger than 2:\", vals)\n",
    "\n",
    "#indices\n",
    "ind = np.nonzero(arr_2x3 > 0)\n",
    "print(\"Indices of elements > 2:\", ind)\n"
   ]
  },
  {
   "cell_type": "markdown",
   "metadata": {},
   "source": [
    "### Q3.1"
   ]
  },
  {
   "cell_type": "code",
   "execution_count": 95,
   "metadata": {},
   "outputs": [
    {
     "name": "stdout",
     "output_type": "stream",
     "text": [
      "[4 3 9 1 0 6 3 6 1 5]\n"
     ]
    },
    {
     "data": {
      "image/png": "[encoded data removed]",
      "text/plain": [
       "<Figure size 432x288 with 1 Axes>"
      ]
     },
     "metadata": {
      "needs_background": "light"
     },
     "output_type": "display_data"
    }
   ],
   "source": [
    "vec_h = np.random.randint(0,10,[10])\n",
    "print(vec_h)\n",
    "#bins\n",
    "bins = np.array([0,1,2,3,4,5,6,7,8,9])\n",
    "plt.hist(vec_h, bins = bins)\n",
    "plt.show;"
   ]
  },
  {
   "cell_type": "markdown",
   "metadata": {},
   "source": [
    "### Q3.2"
   ]
  },
  {
   "cell_type": "code",
   "execution_count": 96,
   "metadata": {},
   "outputs": [
    {
     "name": "stdout",
     "output_type": "stream",
     "text": [
      "[9 2 0 5 4 8 5 6 6 8]\n",
      "[9 8 7 5 1 9 9 2 3 1]\n"
     ]
    },
    {
     "data": {
      "image/png": "[encoded data removed]",
      "text/plain": [
       "<Figure size 432x288 with 1 Axes>"
      ]
     },
     "metadata": {
      "needs_background": "light"
     },
     "output_type": "display_data"
    }
   ],
   "source": [
    "vec_1 = np.random.randint(0,10,[10])\n",
    "print(vec_1)\n",
    "vec_2 = np.random.randint(0,10,[10])\n",
    "print(vec_2)\n",
    "plt.scatter(vec_1, vec_2)\n",
    "plt.grid()\n",
    "plt.show()"
   ]
  },
  {
   "cell_type": "markdown",
   "metadata": {},
   "source": [
    "### Q4"
   ]
  },
  {
   "cell_type": "markdown",
   "metadata": {},
   "source": [
    "#### Prediction\n",
    "#### x = [1,2] - create a vector with values 1 and 2 \n",
    "#### y = [[4, 1], [2, 2]] #create an array with two rows\n",
    "#### print np.dot(x, y) # ?? [8 6] \n",
    "#### print np.dot(y, x) # [4 2] + [2 4] = [6 6]\n",
    "#### print np.inner(x, y)# [6 6]\n",
    "#### print np.inner(y, x)# [6 6]"
   ]
  },
  {
   "cell_type": "code",
   "execution_count": 97,
   "metadata": {},
   "outputs": [
    {
     "name": "stdout",
     "output_type": "stream",
     "text": [
      "[8 5]\n",
      "[6 6]\n",
      "[6 6]\n",
      "[6 6]\n"
     ]
    }
   ],
   "source": [
    "x = [1,2]\n",
    "y = [[4, 1], [2, 2]]\n",
    "print(np.dot(x, y)) \n",
    "print(np.dot(y, x)) \n",
    "print(np.inner(x, y))\n",
    "print(np.inner(y, x))"
   ]
  },
  {
   "cell_type": "markdown",
   "metadata": {},
   "source": [
    "### Q5"
   ]
  },
  {
   "cell_type": "code",
   "execution_count": 99,
   "metadata": {},
   "outputs": [
    {
     "data": {
      "image/png": "[encoded data removed]",
      "text/plain": [
       "<Figure size 432x288 with 1 Axes>"
      ]
     },
     "metadata": {
      "needs_background": "light"
     },
     "output_type": "display_data"
    }
   ],
   "source": [
    "x_data = np.linspace(-5, 5, num=50)\n",
    "y_data = 2.9 * np.sin(1.5 * x_data) + np.random.normal(size=50)\n",
    "\n",
    "def get_a(b, x, y):\n",
    "    return y/sim(b * x)\n",
    "\n",
    "def get_b(a, x, y):\n",
    "    return \n",
    "    \n",
    "    \n",
    "plt.scatter(x_data, y_data)\n",
    "plt.grid()\n",
    "plt.show()\n"
   ]
  },
  {
   "cell_type": "code",
   "execution_count": null,
   "metadata": {},
   "outputs": [],
   "source": []
  }
 ],
 "metadata": {
  "kernelspec": {
   "display_name": "Python 3",
   "language": "python",
   "name": "python3"
  },
  "language_info": {
   "codemirror_mode": {
    "name": "ipython",
    "version": 3
   },
   "file_extension": ".py",
   "mimetype": "text/x-python",
   "name": "python",
   "nbconvert_exporter": "python",
   "pygments_lexer": "ipython3",
   "version": "3.8.3"
  }
 },
 "nbformat": 4,
 "nbformat_minor": 4
}
