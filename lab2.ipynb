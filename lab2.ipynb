{
 "cells": [
  {
   "cell_type": "markdown",
   "metadata": {},
   "source": [
    "<b>Lab 2</b>\n",
    "\n",
    "Zuzanna Liberto"
   ]
  },
  {
   "cell_type": "markdown",
   "metadata": {},
   "source": [
    "<i><b>Task 1</b></i>"
   ]
  },
  {
   "cell_type": "code",
   "execution_count": 1,
   "metadata": {},
   "outputs": [
    {
     "name": "stdin",
     "output_type": "stream",
     "text": [
      "Input the value of x: 90\n"
     ]
    }
   ],
   "source": [
    "x = int(input(\"Input the value of x:\"))"
   ]
  },
  {
   "cell_type": "code",
   "execution_count": 2,
   "metadata": {},
   "outputs": [
    {
     "name": "stdout",
     "output_type": "stream",
     "text": [
      "x<100\n",
      "All done\n"
     ]
    }
   ],
   "source": [
    "if x < 100:\n",
    "    print(\"x<100\")\n",
    "elif (x>= 100 & x<150):\n",
    "    print(\"x>100, x<150\")\n",
    "    \n",
    "print(\"All done\")"
   ]
  },
  {
   "cell_type": "markdown",
   "metadata": {},
   "source": [
    "<br>\n",
    "<b><i>Task 2</i></b>"
   ]
  },
  {
   "cell_type": "code",
   "execution_count": 3,
   "metadata": {},
   "outputs": [
    {
     "name": "stdin",
     "output_type": "stream",
     "text": [
      "Input the value of x: 4\n"
     ]
    }
   ],
   "source": [
    "x = int(input(\"Input the value of x:\"))"
   ]
  },
  {
   "cell_type": "code",
   "execution_count": 4,
   "metadata": {},
   "outputs": [
    {
     "name": "stdout",
     "output_type": "stream",
     "text": [
      "4 is even\n"
     ]
    }
   ],
   "source": [
    "if (x%2 == 0):\n",
    "    print(x, \"is even\")\n",
    "else:\n",
    "    print (x, \"is odd\")"
   ]
  },
  {
   "cell_type": "markdown",
   "metadata": {},
   "source": [
    "<br>\n",
    "<b><i>Task 3</i></b>"
   ]
  },
  {
   "cell_type": "code",
   "execution_count": 5,
   "metadata": {},
   "outputs": [
    {
     "name": "stdin",
     "output_type": "stream",
     "text": [
      "Input the value of x: 4\n"
     ]
    }
   ],
   "source": [
    "x = int(input(\"Input the value of x:\"))"
   ]
  },
  {
   "cell_type": "code",
   "execution_count": 6,
   "metadata": {},
   "outputs": [
    {
     "name": "stdin",
     "output_type": "stream",
     "text": [
      "Input the value of y: 4\n"
     ]
    }
   ],
   "source": [
    "y = int(input(\"Input the value of y:\"))"
   ]
  },
  {
   "cell_type": "code",
   "execution_count": 7,
   "metadata": {},
   "outputs": [
    {
     "name": "stdout",
     "output_type": "stream",
     "text": [
      "x and y must be equal\n"
     ]
    }
   ],
   "source": [
    "if (x<y):\n",
    "    print(\"x is less than y\")\n",
    "elif (x>y):\n",
    "    print(\"x is greater than y\")\n",
    "else:\n",
    "    print(\"x and y must be equal\")"
   ]
  },
  {
   "cell_type": "markdown",
   "metadata": {},
   "source": [
    "<br>\n",
    "<b><i>Task 4</i></b>"
   ]
  },
  {
   "cell_type": "code",
   "execution_count": 8,
   "metadata": {},
   "outputs": [
    {
     "name": "stdin",
     "output_type": "stream",
     "text": [
      "Input a number: 21\n"
     ]
    }
   ],
   "source": [
    "value = int(input(\"Input a number:\"))"
   ]
  },
  {
   "cell_type": "code",
   "execution_count": 9,
   "metadata": {},
   "outputs": [
    {
     "name": "stdout",
     "output_type": "stream",
     "text": [
      "Good evening\n"
     ]
    }
   ],
   "source": [
    "if (value < 10):\n",
    "    print(\"Good Morning\")\n",
    "elif (10 <= value < 12):\n",
    "    print(\"soon time for lunch\")\n",
    "elif (12 <= value < 18):\n",
    "    print(\"Good day\")\n",
    "elif (18 <= value < 22):\n",
    "    print(\"Good evening\")\n",
    "else:\n",
    "    print(\"Good night\")"
   ]
  },
  {
   "cell_type": "markdown",
   "metadata": {},
   "source": [
    "<br>\n",
    "<b><i>Task 5</i></b>"
   ]
  },
  {
   "cell_type": "code",
   "execution_count": 10,
   "metadata": {},
   "outputs": [
    {
     "name": "stdin",
     "output_type": "stream",
     "text": [
      "Please select your year (freshman, sophomore, junior, senior): senior\n"
     ]
    }
   ],
   "source": [
    "year = input(\"Please select your year (freshman, sophomore, junior, senior):\")"
   ]
  },
  {
   "cell_type": "code",
   "execution_count": 11,
   "metadata": {},
   "outputs": [
    {
     "name": "stdin",
     "output_type": "stream",
     "text": [
      "How many courses have you taken so far? 18\n"
     ]
    }
   ],
   "source": [
    "courses = int(input(\"How many courses have you taken so far?\"))"
   ]
  },
  {
   "cell_type": "code",
   "execution_count": 12,
   "metadata": {},
   "outputs": [
    {
     "name": "stdout",
     "output_type": "stream",
     "text": [
      "You are good to graduate\n"
     ]
    }
   ],
   "source": [
    "if (year == \"freshman\"):\n",
    "    if(courses < 4):\n",
    "        print(\"Take more courses in your sophomore year\")\n",
    "    else:\n",
    "        print(\"You are taking enough courses for the year\")\n",
    "elif (year == \"sophomore\"):\n",
    "    print(\"You've taken \", courses, \"courses\")\n",
    "elif (year == \"junior\"):\n",
    "    if(courses < 12):\n",
    "        print(\"less than 12 courses\")\n",
    "elif (year == \"senior\"):\n",
    "    if (courses >= 16):\n",
    "        print(\"You are good to graduate\")\n",
    "    else:\n",
    "        print(\"You need to take more courses\")\n",
    "else:\n",
    "    print(\"The year you entered is incorrect\")\n",
    "    "
   ]
  }
 ],
 "metadata": {
  "kernelspec": {
   "display_name": "Python 3",
   "language": "python",
   "name": "python3"
  },
  "language_info": {
   "codemirror_mode": {
    "name": "ipython",
    "version": 3
   },
   "file_extension": ".py",
   "mimetype": "text/x-python",
   "name": "python",
   "nbconvert_exporter": "python",
   "pygments_lexer": "ipython3",
   "version": "3.8.3"
  }
 },
 "nbformat": 4,
 "nbformat_minor": 4
}
